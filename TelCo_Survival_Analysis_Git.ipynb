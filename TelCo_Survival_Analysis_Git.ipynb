{
  "nbformat": 4,
  "nbformat_minor": 0,
  "metadata": {
    "kernelspec": {
      "display_name": "Python 3",
      "language": "python",
      "name": "python3"
    },
    "language_info": {
      "codemirror_mode": {
        "name": "ipython",
        "version": 3
      },
      "file_extension": ".py",
      "mimetype": "text/x-python",
      "name": "python",
      "nbconvert_exporter": "python",
      "pygments_lexer": "ipython3",
      "version": "3.7.6"
    },
    "colab": {
      "name": "TelCo Survival Analysis Git.ipynb",
      "provenance": [],
      "collapsed_sections": []
    }
  },
  "cells": [
    {
      "cell_type": "markdown",
      "metadata": {
        "id": "k7lbGeXbEGna"
      },
      "source": [
        "**Intro: Installing and importing packages needed and data**"
      ]
    },
    {
      "cell_type": "markdown",
      "metadata": {
        "id": "EeHCnvlBi0z7"
      },
      "source": [
        "First, we install the common DS packages + the LIFELINES package. This is the one we will use for Survival Analysis.\n"
      ]
    },
    {
      "cell_type": "code",
      "metadata": {
        "id": "s8agIKoPjAS_",
        "outputId": "ce5ca78a-d06d-45a9-db70-1d465f4a9e16",
        "colab": {
          "base_uri": "https://localhost:8080/",
          "height": 921
        }
      },
      "source": [
        "!pip install numpy\n",
        "!pip install pandas\n",
        "!pip install matplotlib\n",
        "!pip install seaborn\n",
        "!pip install plotly\n",
        "!pip install lifelines\n"
      ],
      "execution_count": 1,
      "outputs": [
        {
          "output_type": "stream",
          "text": [
            "Requirement already satisfied: numpy in /usr/local/lib/python3.6/dist-packages (1.18.5)\n",
            "Requirement already satisfied: pandas in /usr/local/lib/python3.6/dist-packages (1.1.2)\n",
            "Requirement already satisfied: numpy>=1.15.4 in /usr/local/lib/python3.6/dist-packages (from pandas) (1.18.5)\n",
            "Requirement already satisfied: python-dateutil>=2.7.3 in /usr/local/lib/python3.6/dist-packages (from pandas) (2.8.1)\n",
            "Requirement already satisfied: pytz>=2017.2 in /usr/local/lib/python3.6/dist-packages (from pandas) (2018.9)\n",
            "Requirement already satisfied: six>=1.5 in /usr/local/lib/python3.6/dist-packages (from python-dateutil>=2.7.3->pandas) (1.15.0)\n",
            "Requirement already satisfied: matplotlib in /usr/local/lib/python3.6/dist-packages (3.2.2)\n",
            "Requirement already satisfied: cycler>=0.10 in /usr/local/lib/python3.6/dist-packages (from matplotlib) (0.10.0)\n",
            "Requirement already satisfied: python-dateutil>=2.1 in /usr/local/lib/python3.6/dist-packages (from matplotlib) (2.8.1)\n",
            "Requirement already satisfied: kiwisolver>=1.0.1 in /usr/local/lib/python3.6/dist-packages (from matplotlib) (1.2.0)\n",
            "Requirement already satisfied: numpy>=1.11 in /usr/local/lib/python3.6/dist-packages (from matplotlib) (1.18.5)\n",
            "Requirement already satisfied: pyparsing!=2.0.4,!=2.1.2,!=2.1.6,>=2.0.1 in /usr/local/lib/python3.6/dist-packages (from matplotlib) (2.4.7)\n",
            "Requirement already satisfied: six in /usr/local/lib/python3.6/dist-packages (from cycler>=0.10->matplotlib) (1.15.0)\n",
            "Requirement already satisfied: seaborn in /usr/local/lib/python3.6/dist-packages (0.11.0)\n",
            "Requirement already satisfied: matplotlib>=2.2 in /usr/local/lib/python3.6/dist-packages (from seaborn) (3.2.2)\n",
            "Requirement already satisfied: scipy>=1.0 in /usr/local/lib/python3.6/dist-packages (from seaborn) (1.4.1)\n",
            "Requirement already satisfied: numpy>=1.15 in /usr/local/lib/python3.6/dist-packages (from seaborn) (1.18.5)\n",
            "Requirement already satisfied: pandas>=0.23 in /usr/local/lib/python3.6/dist-packages (from seaborn) (1.1.2)\n",
            "Requirement already satisfied: python-dateutil>=2.1 in /usr/local/lib/python3.6/dist-packages (from matplotlib>=2.2->seaborn) (2.8.1)\n",
            "Requirement already satisfied: cycler>=0.10 in /usr/local/lib/python3.6/dist-packages (from matplotlib>=2.2->seaborn) (0.10.0)\n",
            "Requirement already satisfied: pyparsing!=2.0.4,!=2.1.2,!=2.1.6,>=2.0.1 in /usr/local/lib/python3.6/dist-packages (from matplotlib>=2.2->seaborn) (2.4.7)\n",
            "Requirement already satisfied: kiwisolver>=1.0.1 in /usr/local/lib/python3.6/dist-packages (from matplotlib>=2.2->seaborn) (1.2.0)\n",
            "Requirement already satisfied: pytz>=2017.2 in /usr/local/lib/python3.6/dist-packages (from pandas>=0.23->seaborn) (2018.9)\n",
            "Requirement already satisfied: six>=1.5 in /usr/local/lib/python3.6/dist-packages (from python-dateutil>=2.1->matplotlib>=2.2->seaborn) (1.15.0)\n",
            "Requirement already satisfied: plotly in /usr/local/lib/python3.6/dist-packages (4.4.1)\n",
            "Requirement already satisfied: six in /usr/local/lib/python3.6/dist-packages (from plotly) (1.15.0)\n",
            "Requirement already satisfied: retrying>=1.3.3 in /usr/local/lib/python3.6/dist-packages (from plotly) (1.3.3)\n",
            "Collecting lifelines\n",
            "\u001b[?25l  Downloading https://files.pythonhosted.org/packages/39/8b/239479f5c4317fe92ccc9e8690b60fa6d4613125eae2c03062356b4c32dd/lifelines-0.25.5-py3-none-any.whl (345kB)\n",
            "\u001b[K     |████████████████████████████████| 348kB 2.8MB/s \n",
            "\u001b[?25hRequirement already satisfied: autograd>=1.3 in /usr/local/lib/python3.6/dist-packages (from lifelines) (1.3)\n",
            "Collecting autograd-gamma>=0.3\n",
            "  Downloading https://files.pythonhosted.org/packages/85/ae/7f2031ea76140444b2453fa139041e5afd4a09fc5300cfefeb1103291f80/autograd-gamma-0.5.0.tar.gz\n",
            "Requirement already satisfied: numpy>=1.14.0 in /usr/local/lib/python3.6/dist-packages (from lifelines) (1.18.5)\n",
            "Requirement already satisfied: matplotlib>=3.0 in /usr/local/lib/python3.6/dist-packages (from lifelines) (3.2.2)\n",
            "Requirement already satisfied: patsy>=0.5.0 in /usr/local/lib/python3.6/dist-packages (from lifelines) (0.5.1)\n",
            "Requirement already satisfied: scipy>=1.2.0 in /usr/local/lib/python3.6/dist-packages (from lifelines) (1.4.1)\n",
            "Requirement already satisfied: pandas>=0.23.0 in /usr/local/lib/python3.6/dist-packages (from lifelines) (1.1.2)\n",
            "Requirement already satisfied: future>=0.15.2 in /usr/local/lib/python3.6/dist-packages (from autograd>=1.3->lifelines) (0.16.0)\n",
            "Requirement already satisfied: kiwisolver>=1.0.1 in /usr/local/lib/python3.6/dist-packages (from matplotlib>=3.0->lifelines) (1.2.0)\n",
            "Requirement already satisfied: python-dateutil>=2.1 in /usr/local/lib/python3.6/dist-packages (from matplotlib>=3.0->lifelines) (2.8.1)\n",
            "Requirement already satisfied: cycler>=0.10 in /usr/local/lib/python3.6/dist-packages (from matplotlib>=3.0->lifelines) (0.10.0)\n",
            "Requirement already satisfied: pyparsing!=2.0.4,!=2.1.2,!=2.1.6,>=2.0.1 in /usr/local/lib/python3.6/dist-packages (from matplotlib>=3.0->lifelines) (2.4.7)\n",
            "Requirement already satisfied: six in /usr/local/lib/python3.6/dist-packages (from patsy>=0.5.0->lifelines) (1.15.0)\n",
            "Requirement already satisfied: pytz>=2017.2 in /usr/local/lib/python3.6/dist-packages (from pandas>=0.23.0->lifelines) (2018.9)\n",
            "Building wheels for collected packages: autograd-gamma\n",
            "  Building wheel for autograd-gamma (setup.py) ... \u001b[?25l\u001b[?25hdone\n",
            "  Created wheel for autograd-gamma: filename=autograd_gamma-0.5.0-cp36-none-any.whl size=4035 sha256=ee6ea874c22275f41a506d009d26c8a1e1e1ec5b477fc9d04454603d11354533\n",
            "  Stored in directory: /root/.cache/pip/wheels/dc/68/dc/91321c55fba449755524481854f5be70d41912b8f886f908bb\n",
            "Successfully built autograd-gamma\n",
            "Installing collected packages: autograd-gamma, lifelines\n",
            "Successfully installed autograd-gamma-0.5.0 lifelines-0.25.5\n"
          ],
          "name": "stdout"
        }
      ]
    },
    {
      "cell_type": "markdown",
      "metadata": {
        "id": "pBMQUflkjXLc"
      },
      "source": [
        "Now we import the necessary packages: Lifelines for Survival Analysis; Pandas to deal with data manipulation and tables; Seaborn and Matplotlib for Data visualisation and Numpy for calculations.\n",
        "\n"
      ]
    },
    {
      "cell_type": "code",
      "metadata": {
        "id": "Z5T6ZIm1JC1D"
      },
      "source": [
        "import numpy as np\n",
        "import pandas as pd\n",
        "import matplotlib.pyplot as plt\n",
        "import seaborn as sns\n",
        "import lifelines\n",
        "from lifelines import KaplanMeierFitter #survival analysis library\n",
        "from lifelines.statistics import logrank_test #survival statistical testing\n",
        "\n"
      ],
      "execution_count": 2,
      "outputs": []
    },
    {
      "cell_type": "markdown",
      "metadata": {
        "id": "gkftLqm2ku37"
      },
      "source": [
        "It's now time to import the dataset that you have downloaded. This is not a huge file, so should be quick enough. :D\n",
        "This file is an open dataset available on [Kaggle](https://www.kaggle.com/blastchar/telco-customer-churn).\n"
      ]
    },
    {
      "cell_type": "markdown",
      "metadata": {
        "id": "hU4CvIY_Kcsx"
      },
      "source": [
        "**Assigning the data and checking**\n"
      ]
    },
    {
      "cell_type": "code",
      "metadata": {
        "id": "mDl8ph-9ptmo"
      },
      "source": [
        "#This will take a minute. Afer this, everything is really fast. \n",
        "telco_data = pd.read_csv('https://raw.githubusercontent.com/Growth-Tribe/Survival/main/Telco-Customer-Churn.csv')"
      ],
      "execution_count": 5,
      "outputs": []
    },
    {
      "cell_type": "code",
      "metadata": {
        "id": "SHxSpU6Vp3y2",
        "outputId": "ce473353-3fea-45ce-8f49-c1c8bcf4d549",
        "colab": {
          "base_uri": "https://localhost:8080/",
          "height": 309
        }
      },
      "source": [
        "#We store our data on main_df, which stands for main data frame. \n",
        "main_df = telco_data\n",
        "main_df.head()"
      ],
      "execution_count": 6,
      "outputs": [
        {
          "output_type": "execute_result",
          "data": {
            "text/html": [
              "<div>\n",
              "<style scoped>\n",
              "    .dataframe tbody tr th:only-of-type {\n",
              "        vertical-align: middle;\n",
              "    }\n",
              "\n",
              "    .dataframe tbody tr th {\n",
              "        vertical-align: top;\n",
              "    }\n",
              "\n",
              "    .dataframe thead th {\n",
              "        text-align: right;\n",
              "    }\n",
              "</style>\n",
              "<table border=\"1\" class=\"dataframe\">\n",
              "  <thead>\n",
              "    <tr style=\"text-align: right;\">\n",
              "      <th></th>\n",
              "      <th>customerID</th>\n",
              "      <th>gender</th>\n",
              "      <th>SeniorCitizen</th>\n",
              "      <th>Partner</th>\n",
              "      <th>Dependents</th>\n",
              "      <th>tenure</th>\n",
              "      <th>PhoneService</th>\n",
              "      <th>MultipleLines</th>\n",
              "      <th>InternetService</th>\n",
              "      <th>OnlineSecurity</th>\n",
              "      <th>OnlineBackup</th>\n",
              "      <th>DeviceProtection</th>\n",
              "      <th>TechSupport</th>\n",
              "      <th>StreamingTV</th>\n",
              "      <th>StreamingMovies</th>\n",
              "      <th>Contract</th>\n",
              "      <th>PaperlessBilling</th>\n",
              "      <th>PaymentMethod</th>\n",
              "      <th>MonthlyCharges</th>\n",
              "      <th>TotalCharges</th>\n",
              "      <th>Churn</th>\n",
              "    </tr>\n",
              "  </thead>\n",
              "  <tbody>\n",
              "    <tr>\n",
              "      <th>0</th>\n",
              "      <td>7590-VHVEG</td>\n",
              "      <td>Female</td>\n",
              "      <td>0</td>\n",
              "      <td>Yes</td>\n",
              "      <td>No</td>\n",
              "      <td>1</td>\n",
              "      <td>No</td>\n",
              "      <td>No phone service</td>\n",
              "      <td>DSL</td>\n",
              "      <td>No</td>\n",
              "      <td>Yes</td>\n",
              "      <td>No</td>\n",
              "      <td>No</td>\n",
              "      <td>No</td>\n",
              "      <td>No</td>\n",
              "      <td>Month-to-month</td>\n",
              "      <td>Yes</td>\n",
              "      <td>Electronic check</td>\n",
              "      <td>29.85</td>\n",
              "      <td>29.85</td>\n",
              "      <td>No</td>\n",
              "    </tr>\n",
              "    <tr>\n",
              "      <th>1</th>\n",
              "      <td>5575-GNVDE</td>\n",
              "      <td>Male</td>\n",
              "      <td>0</td>\n",
              "      <td>No</td>\n",
              "      <td>No</td>\n",
              "      <td>34</td>\n",
              "      <td>Yes</td>\n",
              "      <td>No</td>\n",
              "      <td>DSL</td>\n",
              "      <td>Yes</td>\n",
              "      <td>No</td>\n",
              "      <td>Yes</td>\n",
              "      <td>No</td>\n",
              "      <td>No</td>\n",
              "      <td>No</td>\n",
              "      <td>One year</td>\n",
              "      <td>No</td>\n",
              "      <td>Mailed check</td>\n",
              "      <td>56.95</td>\n",
              "      <td>1889.5</td>\n",
              "      <td>No</td>\n",
              "    </tr>\n",
              "    <tr>\n",
              "      <th>2</th>\n",
              "      <td>3668-QPYBK</td>\n",
              "      <td>Male</td>\n",
              "      <td>0</td>\n",
              "      <td>No</td>\n",
              "      <td>No</td>\n",
              "      <td>2</td>\n",
              "      <td>Yes</td>\n",
              "      <td>No</td>\n",
              "      <td>DSL</td>\n",
              "      <td>Yes</td>\n",
              "      <td>Yes</td>\n",
              "      <td>No</td>\n",
              "      <td>No</td>\n",
              "      <td>No</td>\n",
              "      <td>No</td>\n",
              "      <td>Month-to-month</td>\n",
              "      <td>Yes</td>\n",
              "      <td>Mailed check</td>\n",
              "      <td>53.85</td>\n",
              "      <td>108.15</td>\n",
              "      <td>Yes</td>\n",
              "    </tr>\n",
              "    <tr>\n",
              "      <th>3</th>\n",
              "      <td>7795-CFOCW</td>\n",
              "      <td>Male</td>\n",
              "      <td>0</td>\n",
              "      <td>No</td>\n",
              "      <td>No</td>\n",
              "      <td>45</td>\n",
              "      <td>No</td>\n",
              "      <td>No phone service</td>\n",
              "      <td>DSL</td>\n",
              "      <td>Yes</td>\n",
              "      <td>No</td>\n",
              "      <td>Yes</td>\n",
              "      <td>Yes</td>\n",
              "      <td>No</td>\n",
              "      <td>No</td>\n",
              "      <td>One year</td>\n",
              "      <td>No</td>\n",
              "      <td>Bank transfer (automatic)</td>\n",
              "      <td>42.30</td>\n",
              "      <td>1840.75</td>\n",
              "      <td>No</td>\n",
              "    </tr>\n",
              "    <tr>\n",
              "      <th>4</th>\n",
              "      <td>9237-HQITU</td>\n",
              "      <td>Female</td>\n",
              "      <td>0</td>\n",
              "      <td>No</td>\n",
              "      <td>No</td>\n",
              "      <td>2</td>\n",
              "      <td>Yes</td>\n",
              "      <td>No</td>\n",
              "      <td>Fiber optic</td>\n",
              "      <td>No</td>\n",
              "      <td>No</td>\n",
              "      <td>No</td>\n",
              "      <td>No</td>\n",
              "      <td>No</td>\n",
              "      <td>No</td>\n",
              "      <td>Month-to-month</td>\n",
              "      <td>Yes</td>\n",
              "      <td>Electronic check</td>\n",
              "      <td>70.70</td>\n",
              "      <td>151.65</td>\n",
              "      <td>Yes</td>\n",
              "    </tr>\n",
              "  </tbody>\n",
              "</table>\n",
              "</div>"
            ],
            "text/plain": [
              "   customerID  gender  SeniorCitizen  ... MonthlyCharges TotalCharges  Churn\n",
              "0  7590-VHVEG  Female              0  ...          29.85        29.85     No\n",
              "1  5575-GNVDE    Male              0  ...          56.95       1889.5     No\n",
              "2  3668-QPYBK    Male              0  ...          53.85       108.15    Yes\n",
              "3  7795-CFOCW    Male              0  ...          42.30      1840.75     No\n",
              "4  9237-HQITU  Female              0  ...          70.70       151.65    Yes\n",
              "\n",
              "[5 rows x 21 columns]"
            ]
          },
          "metadata": {
            "tags": []
          },
          "execution_count": 6
        }
      ]
    },
    {
      "cell_type": "markdown",
      "metadata": {
        "id": "TbDkNLZ-IDk3"
      },
      "source": [
        "Some of the columns have \"Yes/No\" as categories. We can convert those to Boolean (True/False) values.\n",
        "Also, SeniorCitizen is not consistent with the nomenclature (1 or 0 instead of Yes or No). We need to convert that also."
      ]
    },
    {
      "cell_type": "code",
      "metadata": {
        "id": "sBnpbnZUICsr",
        "outputId": "ff21c456-fedf-4e32-c830-1ac60987509d",
        "colab": {
          "base_uri": "https://localhost:8080/",
          "height": 309
        }
      },
      "source": [
        "main_df = main_df.replace({\"Yes\": True, \"No\": False})\n",
        "main_df['SeniorCitizen'] = main_df['SeniorCitizen'].replace({1: True,0: False})\n",
        "\n",
        "main_df.head()"
      ],
      "execution_count": 7,
      "outputs": [
        {
          "output_type": "execute_result",
          "data": {
            "text/html": [
              "<div>\n",
              "<style scoped>\n",
              "    .dataframe tbody tr th:only-of-type {\n",
              "        vertical-align: middle;\n",
              "    }\n",
              "\n",
              "    .dataframe tbody tr th {\n",
              "        vertical-align: top;\n",
              "    }\n",
              "\n",
              "    .dataframe thead th {\n",
              "        text-align: right;\n",
              "    }\n",
              "</style>\n",
              "<table border=\"1\" class=\"dataframe\">\n",
              "  <thead>\n",
              "    <tr style=\"text-align: right;\">\n",
              "      <th></th>\n",
              "      <th>customerID</th>\n",
              "      <th>gender</th>\n",
              "      <th>SeniorCitizen</th>\n",
              "      <th>Partner</th>\n",
              "      <th>Dependents</th>\n",
              "      <th>tenure</th>\n",
              "      <th>PhoneService</th>\n",
              "      <th>MultipleLines</th>\n",
              "      <th>InternetService</th>\n",
              "      <th>OnlineSecurity</th>\n",
              "      <th>OnlineBackup</th>\n",
              "      <th>DeviceProtection</th>\n",
              "      <th>TechSupport</th>\n",
              "      <th>StreamingTV</th>\n",
              "      <th>StreamingMovies</th>\n",
              "      <th>Contract</th>\n",
              "      <th>PaperlessBilling</th>\n",
              "      <th>PaymentMethod</th>\n",
              "      <th>MonthlyCharges</th>\n",
              "      <th>TotalCharges</th>\n",
              "      <th>Churn</th>\n",
              "    </tr>\n",
              "  </thead>\n",
              "  <tbody>\n",
              "    <tr>\n",
              "      <th>0</th>\n",
              "      <td>7590-VHVEG</td>\n",
              "      <td>Female</td>\n",
              "      <td>False</td>\n",
              "      <td>True</td>\n",
              "      <td>False</td>\n",
              "      <td>1</td>\n",
              "      <td>False</td>\n",
              "      <td>No phone service</td>\n",
              "      <td>DSL</td>\n",
              "      <td>False</td>\n",
              "      <td>True</td>\n",
              "      <td>False</td>\n",
              "      <td>False</td>\n",
              "      <td>False</td>\n",
              "      <td>False</td>\n",
              "      <td>Month-to-month</td>\n",
              "      <td>True</td>\n",
              "      <td>Electronic check</td>\n",
              "      <td>29.85</td>\n",
              "      <td>29.85</td>\n",
              "      <td>False</td>\n",
              "    </tr>\n",
              "    <tr>\n",
              "      <th>1</th>\n",
              "      <td>5575-GNVDE</td>\n",
              "      <td>Male</td>\n",
              "      <td>False</td>\n",
              "      <td>False</td>\n",
              "      <td>False</td>\n",
              "      <td>34</td>\n",
              "      <td>True</td>\n",
              "      <td>False</td>\n",
              "      <td>DSL</td>\n",
              "      <td>True</td>\n",
              "      <td>False</td>\n",
              "      <td>True</td>\n",
              "      <td>False</td>\n",
              "      <td>False</td>\n",
              "      <td>False</td>\n",
              "      <td>One year</td>\n",
              "      <td>False</td>\n",
              "      <td>Mailed check</td>\n",
              "      <td>56.95</td>\n",
              "      <td>1889.5</td>\n",
              "      <td>False</td>\n",
              "    </tr>\n",
              "    <tr>\n",
              "      <th>2</th>\n",
              "      <td>3668-QPYBK</td>\n",
              "      <td>Male</td>\n",
              "      <td>False</td>\n",
              "      <td>False</td>\n",
              "      <td>False</td>\n",
              "      <td>2</td>\n",
              "      <td>True</td>\n",
              "      <td>False</td>\n",
              "      <td>DSL</td>\n",
              "      <td>True</td>\n",
              "      <td>True</td>\n",
              "      <td>False</td>\n",
              "      <td>False</td>\n",
              "      <td>False</td>\n",
              "      <td>False</td>\n",
              "      <td>Month-to-month</td>\n",
              "      <td>True</td>\n",
              "      <td>Mailed check</td>\n",
              "      <td>53.85</td>\n",
              "      <td>108.15</td>\n",
              "      <td>True</td>\n",
              "    </tr>\n",
              "    <tr>\n",
              "      <th>3</th>\n",
              "      <td>7795-CFOCW</td>\n",
              "      <td>Male</td>\n",
              "      <td>False</td>\n",
              "      <td>False</td>\n",
              "      <td>False</td>\n",
              "      <td>45</td>\n",
              "      <td>False</td>\n",
              "      <td>No phone service</td>\n",
              "      <td>DSL</td>\n",
              "      <td>True</td>\n",
              "      <td>False</td>\n",
              "      <td>True</td>\n",
              "      <td>True</td>\n",
              "      <td>False</td>\n",
              "      <td>False</td>\n",
              "      <td>One year</td>\n",
              "      <td>False</td>\n",
              "      <td>Bank transfer (automatic)</td>\n",
              "      <td>42.30</td>\n",
              "      <td>1840.75</td>\n",
              "      <td>False</td>\n",
              "    </tr>\n",
              "    <tr>\n",
              "      <th>4</th>\n",
              "      <td>9237-HQITU</td>\n",
              "      <td>Female</td>\n",
              "      <td>False</td>\n",
              "      <td>False</td>\n",
              "      <td>False</td>\n",
              "      <td>2</td>\n",
              "      <td>True</td>\n",
              "      <td>False</td>\n",
              "      <td>Fiber optic</td>\n",
              "      <td>False</td>\n",
              "      <td>False</td>\n",
              "      <td>False</td>\n",
              "      <td>False</td>\n",
              "      <td>False</td>\n",
              "      <td>False</td>\n",
              "      <td>Month-to-month</td>\n",
              "      <td>True</td>\n",
              "      <td>Electronic check</td>\n",
              "      <td>70.70</td>\n",
              "      <td>151.65</td>\n",
              "      <td>True</td>\n",
              "    </tr>\n",
              "  </tbody>\n",
              "</table>\n",
              "</div>"
            ],
            "text/plain": [
              "   customerID  gender  SeniorCitizen  ...  MonthlyCharges  TotalCharges  Churn\n",
              "0  7590-VHVEG  Female          False  ...           29.85         29.85  False\n",
              "1  5575-GNVDE    Male          False  ...           56.95        1889.5  False\n",
              "2  3668-QPYBK    Male          False  ...           53.85        108.15   True\n",
              "3  7795-CFOCW    Male          False  ...           42.30       1840.75  False\n",
              "4  9237-HQITU  Female          False  ...           70.70        151.65   True\n",
              "\n",
              "[5 rows x 21 columns]"
            ]
          },
          "metadata": {
            "tags": []
          },
          "execution_count": 7
        }
      ]
    },
    {
      "cell_type": "markdown",
      "metadata": {
        "id": "El0I_RO3M4YW"
      },
      "source": [
        "Some features are based on others. For instance MultipleLines being \"No phone service\" is the same as False. If they don't have phone, then they for sure don't have MultipleLines. \n",
        "Same goes for OnlineSecurity, OnlineBackup, DeviceProtection, TechSupport, StreamingTV, StreamingMovies and the need for internet service. So \"No internet service\" can be coded as False as well."
      ]
    },
    {
      "cell_type": "code",
      "metadata": {
        "id": "9WQKNUGuOWkO",
        "outputId": "a062ceec-6019-42dd-f332-807306d947ce",
        "colab": {
          "base_uri": "https://localhost:8080/",
          "height": 309
        }
      },
      "source": [
        "main_df = main_df.replace({\"No phone service\": False, \"No internet service\": False})\n",
        "main_df.head()"
      ],
      "execution_count": 8,
      "outputs": [
        {
          "output_type": "execute_result",
          "data": {
            "text/html": [
              "<div>\n",
              "<style scoped>\n",
              "    .dataframe tbody tr th:only-of-type {\n",
              "        vertical-align: middle;\n",
              "    }\n",
              "\n",
              "    .dataframe tbody tr th {\n",
              "        vertical-align: top;\n",
              "    }\n",
              "\n",
              "    .dataframe thead th {\n",
              "        text-align: right;\n",
              "    }\n",
              "</style>\n",
              "<table border=\"1\" class=\"dataframe\">\n",
              "  <thead>\n",
              "    <tr style=\"text-align: right;\">\n",
              "      <th></th>\n",
              "      <th>customerID</th>\n",
              "      <th>gender</th>\n",
              "      <th>SeniorCitizen</th>\n",
              "      <th>Partner</th>\n",
              "      <th>Dependents</th>\n",
              "      <th>tenure</th>\n",
              "      <th>PhoneService</th>\n",
              "      <th>MultipleLines</th>\n",
              "      <th>InternetService</th>\n",
              "      <th>OnlineSecurity</th>\n",
              "      <th>OnlineBackup</th>\n",
              "      <th>DeviceProtection</th>\n",
              "      <th>TechSupport</th>\n",
              "      <th>StreamingTV</th>\n",
              "      <th>StreamingMovies</th>\n",
              "      <th>Contract</th>\n",
              "      <th>PaperlessBilling</th>\n",
              "      <th>PaymentMethod</th>\n",
              "      <th>MonthlyCharges</th>\n",
              "      <th>TotalCharges</th>\n",
              "      <th>Churn</th>\n",
              "    </tr>\n",
              "  </thead>\n",
              "  <tbody>\n",
              "    <tr>\n",
              "      <th>0</th>\n",
              "      <td>7590-VHVEG</td>\n",
              "      <td>Female</td>\n",
              "      <td>False</td>\n",
              "      <td>True</td>\n",
              "      <td>False</td>\n",
              "      <td>1</td>\n",
              "      <td>False</td>\n",
              "      <td>False</td>\n",
              "      <td>DSL</td>\n",
              "      <td>False</td>\n",
              "      <td>True</td>\n",
              "      <td>False</td>\n",
              "      <td>False</td>\n",
              "      <td>False</td>\n",
              "      <td>False</td>\n",
              "      <td>Month-to-month</td>\n",
              "      <td>True</td>\n",
              "      <td>Electronic check</td>\n",
              "      <td>29.85</td>\n",
              "      <td>29.85</td>\n",
              "      <td>False</td>\n",
              "    </tr>\n",
              "    <tr>\n",
              "      <th>1</th>\n",
              "      <td>5575-GNVDE</td>\n",
              "      <td>Male</td>\n",
              "      <td>False</td>\n",
              "      <td>False</td>\n",
              "      <td>False</td>\n",
              "      <td>34</td>\n",
              "      <td>True</td>\n",
              "      <td>False</td>\n",
              "      <td>DSL</td>\n",
              "      <td>True</td>\n",
              "      <td>False</td>\n",
              "      <td>True</td>\n",
              "      <td>False</td>\n",
              "      <td>False</td>\n",
              "      <td>False</td>\n",
              "      <td>One year</td>\n",
              "      <td>False</td>\n",
              "      <td>Mailed check</td>\n",
              "      <td>56.95</td>\n",
              "      <td>1889.5</td>\n",
              "      <td>False</td>\n",
              "    </tr>\n",
              "    <tr>\n",
              "      <th>2</th>\n",
              "      <td>3668-QPYBK</td>\n",
              "      <td>Male</td>\n",
              "      <td>False</td>\n",
              "      <td>False</td>\n",
              "      <td>False</td>\n",
              "      <td>2</td>\n",
              "      <td>True</td>\n",
              "      <td>False</td>\n",
              "      <td>DSL</td>\n",
              "      <td>True</td>\n",
              "      <td>True</td>\n",
              "      <td>False</td>\n",
              "      <td>False</td>\n",
              "      <td>False</td>\n",
              "      <td>False</td>\n",
              "      <td>Month-to-month</td>\n",
              "      <td>True</td>\n",
              "      <td>Mailed check</td>\n",
              "      <td>53.85</td>\n",
              "      <td>108.15</td>\n",
              "      <td>True</td>\n",
              "    </tr>\n",
              "    <tr>\n",
              "      <th>3</th>\n",
              "      <td>7795-CFOCW</td>\n",
              "      <td>Male</td>\n",
              "      <td>False</td>\n",
              "      <td>False</td>\n",
              "      <td>False</td>\n",
              "      <td>45</td>\n",
              "      <td>False</td>\n",
              "      <td>False</td>\n",
              "      <td>DSL</td>\n",
              "      <td>True</td>\n",
              "      <td>False</td>\n",
              "      <td>True</td>\n",
              "      <td>True</td>\n",
              "      <td>False</td>\n",
              "      <td>False</td>\n",
              "      <td>One year</td>\n",
              "      <td>False</td>\n",
              "      <td>Bank transfer (automatic)</td>\n",
              "      <td>42.30</td>\n",
              "      <td>1840.75</td>\n",
              "      <td>False</td>\n",
              "    </tr>\n",
              "    <tr>\n",
              "      <th>4</th>\n",
              "      <td>9237-HQITU</td>\n",
              "      <td>Female</td>\n",
              "      <td>False</td>\n",
              "      <td>False</td>\n",
              "      <td>False</td>\n",
              "      <td>2</td>\n",
              "      <td>True</td>\n",
              "      <td>False</td>\n",
              "      <td>Fiber optic</td>\n",
              "      <td>False</td>\n",
              "      <td>False</td>\n",
              "      <td>False</td>\n",
              "      <td>False</td>\n",
              "      <td>False</td>\n",
              "      <td>False</td>\n",
              "      <td>Month-to-month</td>\n",
              "      <td>True</td>\n",
              "      <td>Electronic check</td>\n",
              "      <td>70.70</td>\n",
              "      <td>151.65</td>\n",
              "      <td>True</td>\n",
              "    </tr>\n",
              "  </tbody>\n",
              "</table>\n",
              "</div>"
            ],
            "text/plain": [
              "   customerID  gender  SeniorCitizen  ...  MonthlyCharges  TotalCharges  Churn\n",
              "0  7590-VHVEG  Female          False  ...           29.85         29.85  False\n",
              "1  5575-GNVDE    Male          False  ...           56.95        1889.5  False\n",
              "2  3668-QPYBK    Male          False  ...           53.85        108.15   True\n",
              "3  7795-CFOCW    Male          False  ...           42.30       1840.75  False\n",
              "4  9237-HQITU  Female          False  ...           70.70        151.65   True\n",
              "\n",
              "[5 rows x 21 columns]"
            ]
          },
          "metadata": {
            "tags": []
          },
          "execution_count": 8
        }
      ]
    },
    {
      "cell_type": "markdown",
      "metadata": {
        "id": "E9dy8kBApwsf"
      },
      "source": [
        "Let's check some information on this dataset.\n"
      ]
    },
    {
      "cell_type": "code",
      "metadata": {
        "id": "5U3EvBRZ580N"
      },
      "source": [
        "print (\"Rows    : \" , main_df.shape[0])\n",
        "print (\"Columns : \" , main_df.shape[1])\n",
        "print (\"Features: \\n\" ,main_df.columns.tolist())\n",
        "print (\"Missing values :  \", main_df.isnull().sum().values.sum())\n",
        "print (\"Unique values :  \\n\",main_df.nunique())"
      ],
      "execution_count": null,
      "outputs": []
    },
    {
      "cell_type": "code",
      "metadata": {
        "id": "_7LBa7xBJC1R"
      },
      "source": [
        "main_df.info()\n"
      ],
      "execution_count": null,
      "outputs": []
    },
    {
      "cell_type": "markdown",
      "metadata": {
        "id": "YFpp2aiTbt57"
      },
      "source": [
        "\"TotalCharges\" should be Float (decimal numbers, not Strings). However, just trying to convert it returns a problem: some values are just white spaces and can't be converted to Float (check customerID 3213-VVOLG below as an example). \n",
        " "
      ]
    },
    {
      "cell_type": "code",
      "metadata": {
        "id": "r4CGv7KdXEL3"
      },
      "source": [
        "main_df.loc[main_df['customerID'] == '3213-VVOLG']"
      ],
      "execution_count": null,
      "outputs": []
    },
    {
      "cell_type": "markdown",
      "metadata": {
        "id": "_LA7medfcQOw"
      },
      "source": [
        "So we need to replace those for a NaN (Null) value first. We do this using REGEX."
      ]
    },
    {
      "cell_type": "code",
      "metadata": {
        "id": "thfzAlfdbV-y",
        "outputId": "1c4d8d14-e570-4b99-dee7-909e3293d8c6",
        "colab": {
          "base_uri": "https://localhost:8080/",
          "height": 100
        }
      },
      "source": [
        "main_df['TotalCharges'] = main_df['TotalCharges'].replace(r'^\\s*$', np.nan, regex=True)\n",
        "\n",
        "#we can check the same customer again to make sure it worked\n",
        "main_df.loc[main_df['customerID'] == '3213-VVOLG']\n"
      ],
      "execution_count": 9,
      "outputs": [
        {
          "output_type": "execute_result",
          "data": {
            "text/html": [
              "<div>\n",
              "<style scoped>\n",
              "    .dataframe tbody tr th:only-of-type {\n",
              "        vertical-align: middle;\n",
              "    }\n",
              "\n",
              "    .dataframe tbody tr th {\n",
              "        vertical-align: top;\n",
              "    }\n",
              "\n",
              "    .dataframe thead th {\n",
              "        text-align: right;\n",
              "    }\n",
              "</style>\n",
              "<table border=\"1\" class=\"dataframe\">\n",
              "  <thead>\n",
              "    <tr style=\"text-align: right;\">\n",
              "      <th></th>\n",
              "      <th>customerID</th>\n",
              "      <th>gender</th>\n",
              "      <th>SeniorCitizen</th>\n",
              "      <th>Partner</th>\n",
              "      <th>Dependents</th>\n",
              "      <th>tenure</th>\n",
              "      <th>PhoneService</th>\n",
              "      <th>MultipleLines</th>\n",
              "      <th>InternetService</th>\n",
              "      <th>OnlineSecurity</th>\n",
              "      <th>OnlineBackup</th>\n",
              "      <th>DeviceProtection</th>\n",
              "      <th>TechSupport</th>\n",
              "      <th>StreamingTV</th>\n",
              "      <th>StreamingMovies</th>\n",
              "      <th>Contract</th>\n",
              "      <th>PaperlessBilling</th>\n",
              "      <th>PaymentMethod</th>\n",
              "      <th>MonthlyCharges</th>\n",
              "      <th>TotalCharges</th>\n",
              "      <th>Churn</th>\n",
              "    </tr>\n",
              "  </thead>\n",
              "  <tbody>\n",
              "    <tr>\n",
              "      <th>3826</th>\n",
              "      <td>3213-VVOLG</td>\n",
              "      <td>Male</td>\n",
              "      <td>False</td>\n",
              "      <td>True</td>\n",
              "      <td>True</td>\n",
              "      <td>0</td>\n",
              "      <td>True</td>\n",
              "      <td>True</td>\n",
              "      <td>False</td>\n",
              "      <td>False</td>\n",
              "      <td>False</td>\n",
              "      <td>False</td>\n",
              "      <td>False</td>\n",
              "      <td>False</td>\n",
              "      <td>False</td>\n",
              "      <td>Two year</td>\n",
              "      <td>False</td>\n",
              "      <td>Mailed check</td>\n",
              "      <td>25.35</td>\n",
              "      <td>NaN</td>\n",
              "      <td>False</td>\n",
              "    </tr>\n",
              "  </tbody>\n",
              "</table>\n",
              "</div>"
            ],
            "text/plain": [
              "      customerID gender  SeniorCitizen  ...  MonthlyCharges  TotalCharges  Churn\n",
              "3826  3213-VVOLG   Male          False  ...           25.35           NaN  False\n",
              "\n",
              "[1 rows x 21 columns]"
            ]
          },
          "metadata": {
            "tags": []
          },
          "execution_count": 9
        }
      ]
    },
    {
      "cell_type": "markdown",
      "metadata": {
        "id": "A65eiccjM2_I"
      },
      "source": [
        "\"Gender\", \"InternetService\", \"Contract\", \"PaymentMethod\" should be encoded as Categories, not Strings. And here we also change 'TotalCharges' to Float (decimal numbers).\n"
      ]
    },
    {
      "cell_type": "code",
      "metadata": {
        "id": "d2OQIr8vQEcl",
        "outputId": "85b323cc-59b8-41c9-ba4e-84247ed43228",
        "colab": {
          "base_uri": "https://localhost:8080/",
          "height": 493
        }
      },
      "source": [
        "main_df = main_df.astype({'gender': 'category', \n",
        "                          'InternetService': 'category', \n",
        "                          'Contract': 'category', \n",
        "                          'PaymentMethod': 'category', \n",
        "                          'TotalCharges': 'float64'})\n",
        "\n",
        "main_df.info()"
      ],
      "execution_count": 10,
      "outputs": [
        {
          "output_type": "stream",
          "text": [
            "<class 'pandas.core.frame.DataFrame'>\n",
            "RangeIndex: 7043 entries, 0 to 7042\n",
            "Data columns (total 21 columns):\n",
            " #   Column            Non-Null Count  Dtype   \n",
            "---  ------            --------------  -----   \n",
            " 0   customerID        7043 non-null   object  \n",
            " 1   gender            7043 non-null   category\n",
            " 2   SeniorCitizen     7043 non-null   bool    \n",
            " 3   Partner           7043 non-null   bool    \n",
            " 4   Dependents        7043 non-null   bool    \n",
            " 5   tenure            7043 non-null   int64   \n",
            " 6   PhoneService      7043 non-null   bool    \n",
            " 7   MultipleLines     7043 non-null   bool    \n",
            " 8   InternetService   7043 non-null   category\n",
            " 9   OnlineSecurity    7043 non-null   bool    \n",
            " 10  OnlineBackup      7043 non-null   bool    \n",
            " 11  DeviceProtection  7043 non-null   bool    \n",
            " 12  TechSupport       7043 non-null   bool    \n",
            " 13  StreamingTV       7043 non-null   bool    \n",
            " 14  StreamingMovies   7043 non-null   bool    \n",
            " 15  Contract          7043 non-null   category\n",
            " 16  PaperlessBilling  7043 non-null   bool    \n",
            " 17  PaymentMethod     7043 non-null   category\n",
            " 18  MonthlyCharges    7043 non-null   float64 \n",
            " 19  TotalCharges      7032 non-null   float64 \n",
            " 20  Churn             7043 non-null   bool    \n",
            "dtypes: bool(13), category(4), float64(2), int64(1), object(1)\n",
            "memory usage: 337.6+ KB\n"
          ],
          "name": "stdout"
        }
      ]
    },
    {
      "cell_type": "markdown",
      "metadata": {
        "id": "RGFl7UOnjoLy"
      },
      "source": [
        "Checking the categorical columns."
      ]
    },
    {
      "cell_type": "code",
      "metadata": {
        "id": "11h-wmyUjxIP",
        "outputId": "e40ed903-49b5-4ffe-a7f1-a716ef16933c",
        "colab": {
          "base_uri": "https://localhost:8080/",
          "height": 306
        }
      },
      "source": [
        "for column in main_df:\n",
        "    if main_df[column].dtype.name == 'category':\n",
        "        print(\"{}\\n{}\\n\".format(main_df[column].name,pd.unique(main_df[column])))\n",
        "\n"
      ],
      "execution_count": 11,
      "outputs": [
        {
          "output_type": "stream",
          "text": [
            "gender\n",
            "['Female', 'Male']\n",
            "Categories (2, object): ['Female', 'Male']\n",
            "\n",
            "InternetService\n",
            "['DSL', 'Fiber optic', False]\n",
            "Categories (3, object): ['DSL', 'Fiber optic', False]\n",
            "\n",
            "Contract\n",
            "['Month-to-month', 'One year', 'Two year']\n",
            "Categories (3, object): ['Month-to-month', 'One year', 'Two year']\n",
            "\n",
            "PaymentMethod\n",
            "['Electronic check', 'Mailed check', 'Bank transfer (automatic)', 'Credit card (automatic)']\n",
            "Categories (4, object): ['Electronic check', 'Mailed check', 'Bank transfer (automatic)',\n",
            "                         'Credit card (automatic)']\n",
            "\n"
          ],
          "name": "stdout"
        }
      ]
    },
    {
      "cell_type": "markdown",
      "metadata": {
        "id": "Yiq36-Ds6txA"
      },
      "source": [
        "Getting lists for churned and non-churned users:"
      ]
    },
    {
      "cell_type": "code",
      "metadata": {
        "id": "nHt__GoL6yxh"
      },
      "source": [
        "churned = main_df[main_df[\"Churn\"] == True]\n",
        "not_churned = main_df[main_df[\"Churn\"] == False]"
      ],
      "execution_count": 12,
      "outputs": []
    },
    {
      "cell_type": "markdown",
      "metadata": {
        "id": "4WPOyKHkLnAb"
      },
      "source": [
        "And then some descriptive statistics."
      ]
    },
    {
      "cell_type": "code",
      "metadata": {
        "id": "qCWk2yesHT3E",
        "outputId": "3885b0e9-f043-45d0-aba4-c8a519644548",
        "colab": {
          "base_uri": "https://localhost:8080/",
          "height": 297
        }
      },
      "source": [
        "main_df.describe()\n"
      ],
      "execution_count": 13,
      "outputs": [
        {
          "output_type": "execute_result",
          "data": {
            "text/html": [
              "<div>\n",
              "<style scoped>\n",
              "    .dataframe tbody tr th:only-of-type {\n",
              "        vertical-align: middle;\n",
              "    }\n",
              "\n",
              "    .dataframe tbody tr th {\n",
              "        vertical-align: top;\n",
              "    }\n",
              "\n",
              "    .dataframe thead th {\n",
              "        text-align: right;\n",
              "    }\n",
              "</style>\n",
              "<table border=\"1\" class=\"dataframe\">\n",
              "  <thead>\n",
              "    <tr style=\"text-align: right;\">\n",
              "      <th></th>\n",
              "      <th>tenure</th>\n",
              "      <th>MonthlyCharges</th>\n",
              "      <th>TotalCharges</th>\n",
              "    </tr>\n",
              "  </thead>\n",
              "  <tbody>\n",
              "    <tr>\n",
              "      <th>count</th>\n",
              "      <td>7043.000000</td>\n",
              "      <td>7043.000000</td>\n",
              "      <td>7032.000000</td>\n",
              "    </tr>\n",
              "    <tr>\n",
              "      <th>mean</th>\n",
              "      <td>32.371149</td>\n",
              "      <td>64.761692</td>\n",
              "      <td>2283.300441</td>\n",
              "    </tr>\n",
              "    <tr>\n",
              "      <th>std</th>\n",
              "      <td>24.559481</td>\n",
              "      <td>30.090047</td>\n",
              "      <td>2266.771362</td>\n",
              "    </tr>\n",
              "    <tr>\n",
              "      <th>min</th>\n",
              "      <td>0.000000</td>\n",
              "      <td>18.250000</td>\n",
              "      <td>18.800000</td>\n",
              "    </tr>\n",
              "    <tr>\n",
              "      <th>25%</th>\n",
              "      <td>9.000000</td>\n",
              "      <td>35.500000</td>\n",
              "      <td>401.450000</td>\n",
              "    </tr>\n",
              "    <tr>\n",
              "      <th>50%</th>\n",
              "      <td>29.000000</td>\n",
              "      <td>70.350000</td>\n",
              "      <td>1397.475000</td>\n",
              "    </tr>\n",
              "    <tr>\n",
              "      <th>75%</th>\n",
              "      <td>55.000000</td>\n",
              "      <td>89.850000</td>\n",
              "      <td>3794.737500</td>\n",
              "    </tr>\n",
              "    <tr>\n",
              "      <th>max</th>\n",
              "      <td>72.000000</td>\n",
              "      <td>118.750000</td>\n",
              "      <td>8684.800000</td>\n",
              "    </tr>\n",
              "  </tbody>\n",
              "</table>\n",
              "</div>"
            ],
            "text/plain": [
              "            tenure  MonthlyCharges  TotalCharges\n",
              "count  7043.000000     7043.000000   7032.000000\n",
              "mean     32.371149       64.761692   2283.300441\n",
              "std      24.559481       30.090047   2266.771362\n",
              "min       0.000000       18.250000     18.800000\n",
              "25%       9.000000       35.500000    401.450000\n",
              "50%      29.000000       70.350000   1397.475000\n",
              "75%      55.000000       89.850000   3794.737500\n",
              "max      72.000000      118.750000   8684.800000"
            ]
          },
          "metadata": {
            "tags": []
          },
          "execution_count": 13
        }
      ]
    },
    {
      "cell_type": "markdown",
      "metadata": {
        "id": "ut3EyO7cBP05"
      },
      "source": [
        "Plotting Churn and Non-Churn distribution across Tenure.\n",
        "The first one (FacetGrid) uses a density function, so you can notice how it goes \"out of bounds\" (less than 0 and more than 72 months).\n",
        "The second one (histogram) is easier to interpret. No \"out of bounds\" shenanigans.\n"
      ]
    },
    {
      "cell_type": "code",
      "metadata": {
        "id": "scTfy_hnAWF-",
        "outputId": "500529e1-cf56-4a5c-ce50-19f295a1046e",
        "colab": {
          "base_uri": "https://localhost:8080/",
          "height": 407
        }
      },
      "source": [
        "ax = sns.FacetGrid(main_df, hue='Churn',palette=\"Set2\",aspect=2,height=5)\n",
        "ax.map(sns.kdeplot, \"tenure\",shade= True)\n",
        "ax.fig.legend(title='Churn',fontsize=12,title_fontsize=12)   \n",
        "ax.set(xlabel=\"Tenure in Months\",ylabel=\"Percentage\")\n",
        "plt.title('Churn distribution over Tenure', {'fontsize': 20})"
      ],
      "execution_count": 14,
      "outputs": [
        {
          "output_type": "execute_result",
          "data": {
            "text/plain": [
              "Text(0.5, 1.0, 'Churn distribution over Tenure')"
            ]
          },
          "metadata": {
            "tags": []
          },
          "execution_count": 14
        },
        {
          "output_type": "display_data",
          "data": {
            "image/png": "[encoded data removed]",
            "text/plain": [
              "<Figure size 720x360 with 1 Axes>"
            ]
          },
          "metadata": {
            "tags": [],
            "needs_background": "light"
          }
        }
      ]
    },
    {
      "cell_type": "code",
      "metadata": {
        "id": "JF9qu_s4XOL7",
        "outputId": "c781a8db-8c45-4dad-a603-c67fb06ace9a",
        "colab": {
          "base_uri": "https://localhost:8080/",
          "height": 703
        }
      },
      "source": [
        "font = {'size':15}\n",
        "\n",
        "\n",
        "plt.figure(figsize=(15,10))\n",
        "plt.title(\"Tenure of Churned and Not-Churned users\",fontdict={'size':20})\n",
        "plt.xlabel(\"Tenure\",fontdict=font)\n",
        "plt.ylabel(\"Distribution Count\",fontdict=font)\n",
        "sns.distplot(churned[\"tenure\"], kde=False, label=\"Churned users\")\n",
        "sns.distplot(not_churned[\"tenure\"], kde=False, label=\"Non-Churned users\")\n",
        "plt.legend(loc=\"best\",fontsize=15)\n"
      ],
      "execution_count": 15,
      "outputs": [
        {
          "output_type": "stream",
          "text": [
            "/usr/local/lib/python3.6/dist-packages/seaborn/distributions.py:2551: FutureWarning: `distplot` is a deprecated function and will be removed in a future version. Please adapt your code to use either `displot` (a figure-level function with similar flexibility) or `histplot` (an axes-level function for histograms).\n",
            "  warnings.warn(msg, FutureWarning)\n"
          ],
          "name": "stderr"
        },
        {
          "output_type": "execute_result",
          "data": {
            "text/plain": [
              "<matplotlib.legend.Legend at 0x7f2e862410f0>"
            ]
          },
          "metadata": {
            "tags": []
          },
          "execution_count": 15
        },
        {
          "output_type": "display_data",
          "data": {
            "image/png": "[encoded data removed]",
            "text/plain": [
              "<Figure size 1080x720 with 1 Axes>"
            ]
          },
          "metadata": {
            "tags": [],
            "needs_background": "light"
          }
        }
      ]
    },
    {
      "cell_type": "markdown",
      "metadata": {
        "id": "byYUnmBvOFwe"
      },
      "source": [
        "**Starting the Survival Analysis**"
      ]
    },
    {
      "cell_type": "markdown",
      "metadata": {
        "id": "5QOg4oR3OMhO"
      },
      "source": [
        "We will use the KaplanMeierFitter to fir and plot the survival function of this dataset.\n",
        "T is the Tenure (in this case, the column 'tenure')\n",
        "E is the Event (in this case, the column 'Churn')"
      ]
    },
    {
      "cell_type": "code",
      "metadata": {
        "id": "Plk0qChcJC1f",
        "outputId": "58b5c158-192e-4c93-beca-b453410ae9b1",
        "colab": {
          "base_uri": "https://localhost:8080/",
          "height": 34
        }
      },
      "source": [
        "kmf = KaplanMeierFitter()\n",
        "T = main_df[\"tenure\"]\n",
        "E = main_df[\"Churn\"]\n",
        "\n",
        "kmf.fit(T, E)"
      ],
      "execution_count": 16,
      "outputs": [
        {
          "output_type": "execute_result",
          "data": {
            "text/plain": [
              "<lifelines.KaplanMeierFitter:\"KM_estimate\", fitted with 7043 total observations, 5174 right-censored observations>"
            ]
          },
          "metadata": {
            "tags": []
          },
          "execution_count": 16
        }
      ]
    },
    {
      "cell_type": "markdown",
      "metadata": {
        "id": "jVbbr_f9O9NY"
      },
      "source": [
        "Let's plot it!"
      ]
    },
    {
      "cell_type": "code",
      "metadata": {
        "id": "iJDL7T5AJC2U",
        "outputId": "ee9ac05a-cf8e-433f-808f-4636397dbae7",
        "colab": {
          "base_uri": "https://localhost:8080/",
          "height": 649
        }
      },
      "source": [
        "plt.figure(figsize=(20,10))\n",
        "\n",
        "\n",
        "ax1 = kmf.plot()\n",
        "plt.legend(fontsize=15)\n",
        "plt.xlabel('Timeline in months',fontdict=font)\n",
        "plt.title('Survival function in TelCo',fontdict={\"size\":20})\n",
        "\n",
        "\n"
      ],
      "execution_count": 17,
      "outputs": [
        {
          "output_type": "execute_result",
          "data": {
            "text/plain": [
              "Text(0.5, 1.0, 'Survival function in TelCo')"
            ]
          },
          "metadata": {
            "tags": []
          },
          "execution_count": 17
        },
        {
          "output_type": "display_data",
          "data": {
            "image/png": "[encoded data removed]",
            "text/plain": [
              "<Figure size 1440x720 with 1 Axes>"
            ]
          },
          "metadata": {
            "tags": [],
            "needs_background": "light"
          }
        }
      ]
    },
    {
      "cell_type": "code",
      "metadata": {
        "id": "542UPIZFvP7m",
        "outputId": "56b811e1-7322-43f9-a978-3e762db5ef91",
        "colab": {
          "base_uri": "https://localhost:8080/",
          "height": 339
        }
      },
      "source": [
        "#or if you want a smooth curve\n",
        "plt.figure(figsize=(20,10))\n",
        "\n",
        "ax2 = kmf.survival_function_.plot()\n",
        "plt.legend(fontsize=15)\n",
        "plt.xlabel('Timeline in months',fontdict=font)\n",
        "plt.title('Survival function in TelCo',fontdict={\"size\":20})\n",
        "# plt.figure(figsize=(20,10))\n"
      ],
      "execution_count": 18,
      "outputs": [
        {
          "output_type": "execute_result",
          "data": {
            "text/plain": [
              "Text(0.5, 1.0, 'Survival function in TelCo')"
            ]
          },
          "metadata": {
            "tags": []
          },
          "execution_count": 18
        },
        {
          "output_type": "display_data",
          "data": {
            "text/plain": [
              "<Figure size 1440x720 with 0 Axes>"
            ]
          },
          "metadata": {
            "tags": []
          }
        },
        {
          "output_type": "display_data",
          "data": {
            "image/png": "[encoded data removed]",
            "text/plain": [
              "<Figure size 432x288 with 1 Axes>"
            ]
          },
          "metadata": {
            "tags": [],
            "needs_background": "light"
          }
        }
      ]
    },
    {
      "cell_type": "code",
      "metadata": {
        "id": "xME0hWTxvkJV",
        "outputId": "0d56bab6-f27b-4964-ceda-40ef61a71ceb",
        "colab": {
          "base_uri": "https://localhost:8080/",
          "height": 649
        }
      },
      "source": [
        "#or if you want to plot the cumulative density function\n",
        "plt.figure(figsize=(20,10))\n",
        "\n",
        "ax3 = kmf.plot_cumulative_density()\n",
        "plt.legend(fontsize=15)\n",
        "plt.title('Cumulative density function in TelCo',fontdict={\"size\":20})\n",
        "plt.xlabel('Timeline in months',fontdict=font)\n"
      ],
      "execution_count": 19,
      "outputs": [
        {
          "output_type": "execute_result",
          "data": {
            "text/plain": [
              "Text(0.5, 0, 'Timeline in months')"
            ]
          },
          "metadata": {
            "tags": []
          },
          "execution_count": 19
        },
        {
          "output_type": "display_data",
          "data": {
            "image/png": "[encoded data removed]",
            "text/plain": [
              "<Figure size 1440x720 with 1 Axes>"
            ]
          },
          "metadata": {
            "tags": [],
            "needs_background": "light"
          }
        }
      ]
    },
    {
      "cell_type": "markdown",
      "metadata": {
        "id": "JOMRbiRhtgAX"
      },
      "source": [
        "Notice that we don't have a median survival time, as we don't have a point when 50% of the users have churned. It returns 'inf' for infinity."
      ]
    },
    {
      "cell_type": "code",
      "metadata": {
        "id": "Sb-b75FStoeB",
        "outputId": "fbfe1a83-a1ff-420c-ac61-24ef4d253fc6",
        "colab": {
          "base_uri": "https://localhost:8080/",
          "height": 34
        }
      },
      "source": [
        "from lifelines.utils import median_survival_times\n",
        "\n",
        "median_ = kmf.median_survival_time_\n",
        "median_confidence_interval_ = median_survival_times(kmf.confidence_interval_)\n",
        "print(median_)"
      ],
      "execution_count": 20,
      "outputs": [
        {
          "output_type": "stream",
          "text": [
            "inf\n"
          ],
          "name": "stdout"
        }
      ]
    },
    {
      "cell_type": "markdown",
      "metadata": {
        "id": "RbJjBtBUk4UX"
      },
      "source": [
        "We can stratify the Survival Function based on categories. One example, for instance, is checking the PaymentMethod or Contract."
      ]
    },
    {
      "cell_type": "code",
      "metadata": {
        "id": "3TG-NPj6nW9r",
        "outputId": "3e51bc05-8821-483f-8d81-11b26640804c",
        "colab": {
          "base_uri": "https://localhost:8080/",
          "height": 649
        }
      },
      "source": [
        "plt.figure(figsize=(20,10))\n",
        "\n",
        "ax = plt.subplot(111)\n",
        "\n",
        "kmf2 = KaplanMeierFitter()\n",
        "\n",
        "for name, grouped_df in main_df.groupby('PaymentMethod'):\n",
        "    kmf2.fit(grouped_df[\"tenure\"], grouped_df[\"Churn\"], label=name)\n",
        "    kmf2.plot(ax=ax)\n",
        "\n",
        "plt.title('Survival Function per Payment Method',fontdict={\"size\":20})\n",
        "plt.xlabel('Timeline in months',fontdict=font)\n",
        "plt.ylabel(\"Probability of Survival\",fontdict=font)\n",
        "plt.legend(fontsize=15)\n"
      ],
      "execution_count": 21,
      "outputs": [
        {
          "output_type": "execute_result",
          "data": {
            "text/plain": [
              "<matplotlib.legend.Legend at 0x7f2e8730cef0>"
            ]
          },
          "metadata": {
            "tags": []
          },
          "execution_count": 21
        },
        {
          "output_type": "display_data",
          "data": {
            "image/png": "[encoded data removed]",
            "text/plain": [
              "<Figure size 1440x720 with 1 Axes>"
            ]
          },
          "metadata": {
            "tags": [],
            "needs_background": "light"
          }
        }
      ]
    },
    {
      "cell_type": "code",
      "metadata": {
        "id": "LQMS1uK6t1fk",
        "outputId": "01a6645e-d54d-4d35-b393-ff2e18b22e1e",
        "colab": {
          "base_uri": "https://localhost:8080/",
          "height": 649
        }
      },
      "source": [
        "plt.figure(figsize=(20,10))\n",
        "\n",
        "ax = plt.subplot(111)\n",
        "\n",
        "kmf3 = KaplanMeierFitter()\n",
        "\n",
        "for name, grouped_df in main_df.groupby('Contract'):\n",
        "    kmf3.fit(grouped_df[\"tenure\"], grouped_df[\"Churn\"], label=name)\n",
        "    kmf3.plot(ax=ax)\n",
        "\n",
        "plt.title('Survival Function per Contract',fontdict={\"size\":20})\n",
        "plt.xlabel('Timeline in months',fontdict=font)\n",
        "plt.ylabel(\"Probability of Survival\",fontdict=font)\n",
        "plt.legend(fontsize=15)"
      ],
      "execution_count": 22,
      "outputs": [
        {
          "output_type": "execute_result",
          "data": {
            "text/plain": [
              "<matplotlib.legend.Legend at 0x7f2e8323da20>"
            ]
          },
          "metadata": {
            "tags": []
          },
          "execution_count": 22
        },
        {
          "output_type": "display_data",
          "data": {
            "image/png": "[encoded data removed]",
            "text/plain": [
              "<Figure size 1440x720 with 1 Axes>"
            ]
          },
          "metadata": {
            "tags": [],
            "needs_background": "light"
          }
        }
      ]
    },
    {
      "cell_type": "markdown",
      "metadata": {
        "id": "WNBl2Po7A6ff"
      },
      "source": [
        "**Hazard rates using Nelson-Aalen**"
      ]
    },
    {
      "cell_type": "markdown",
      "metadata": {
        "id": "0G6f_TkmA6OM"
      },
      "source": [
        "If we want to understand the hazard function *h(t)* of a population, we can use the Nelson Aalen estimator. It's a non-parametric estimator of the cumulative hazard function.\n",
        "\n",
        "The interpretation is a bit less obvious here. The *rate of change* of the curve below is the estimate of the hazard function. "
      ]
    },
    {
      "cell_type": "code",
      "metadata": {
        "id": "95szWHrnBUNJ",
        "outputId": "3d53067a-17a4-4c70-e852-008b8edf07b2",
        "colab": {
          "base_uri": "https://localhost:8080/",
          "height": 415
        }
      },
      "source": [
        "from lifelines import NelsonAalenFitter\n",
        "naf = NelsonAalenFitter()\n",
        "\n",
        "naf.fit(main_df[\"tenure\"],event_observed=main_df[\"Churn\"])\n",
        "\n",
        "print(naf.cumulative_hazard_.head())\n",
        "naf.plot()"
      ],
      "execution_count": 23,
      "outputs": [
        {
          "output_type": "stream",
          "text": [
            "          NA_estimate\n",
            "timeline             \n",
            "0.0          0.000000\n",
            "1.0          0.055550\n",
            "2.0          0.074896\n",
            "3.0          0.090219\n",
            "4.0          0.104193\n"
          ],
          "name": "stdout"
        },
        {
          "output_type": "execute_result",
          "data": {
            "text/plain": [
              "<matplotlib.axes._subplots.AxesSubplot at 0x7f2e8321e9b0>"
            ]
          },
          "metadata": {
            "tags": []
          },
          "execution_count": 23
        },
        {
          "output_type": "display_data",
          "data": {
            "image/png": "[encoded data removed]",
            "text/plain": [
              "<Figure size 432x288 with 1 Axes>"
            ]
          },
          "metadata": {
            "tags": [],
            "needs_background": "light"
          }
        }
      ]
    },
    {
      "cell_type": "markdown",
      "metadata": {
        "id": "xX8nMbUgDLWS"
      },
      "source": [
        "We can do the same as before, and check the cumulative hazard based on certain categories."
      ]
    },
    {
      "cell_type": "code",
      "metadata": {
        "id": "xo3iI02pDQYS",
        "outputId": "ad0be971-78cb-42a9-e720-927535cbf541",
        "colab": {
          "base_uri": "https://localhost:8080/",
          "height": 649
        }
      },
      "source": [
        "plt.figure(figsize=(20,10))\n",
        "\n",
        "ax = plt.subplot(111)\n",
        "\n",
        "naf2 = NelsonAalenFitter()\n",
        "\n",
        "for name, grouped_df in main_df.groupby('PaymentMethod'):\n",
        "    naf2.fit(grouped_df[\"tenure\"], grouped_df[\"Churn\"], label=name)\n",
        "    naf2.plot(ax=ax)\n",
        "\n",
        "plt.title('Cumulative Hazard per Payment Method',fontdict={\"size\":20})\n",
        "plt.xlabel('Timeline in months',fontdict=font)\n",
        "plt.ylabel(\"Cumulative Hazard Rate\",fontdict=font)\n",
        "plt.legend(fontsize=15)"
      ],
      "execution_count": 24,
      "outputs": [
        {
          "output_type": "execute_result",
          "data": {
            "text/plain": [
              "<matplotlib.legend.Legend at 0x7f2e83140b70>"
            ]
          },
          "metadata": {
            "tags": []
          },
          "execution_count": 24
        },
        {
          "output_type": "display_data",
          "data": {
            "image/png": "[encoded data removed]",
            "text/plain": [
              "<Figure size 1440x720 with 1 Axes>"
            ]
          },
          "metadata": {
            "tags": [],
            "needs_background": "light"
          }
        }
      ]
    },
    {
      "cell_type": "code",
      "metadata": {
        "id": "3-_Zvk3cDldG",
        "outputId": "3c87ce8e-4323-41ee-e294-671102be4785",
        "colab": {
          "base_uri": "https://localhost:8080/",
          "height": 649
        }
      },
      "source": [
        "plt.figure(figsize=(20,10))\n",
        "\n",
        "ax = plt.subplot(111)\n",
        "\n",
        "naf3 = NelsonAalenFitter()\n",
        "\n",
        "for name, grouped_df in main_df.groupby('Contract'):\n",
        "    naf3.fit(grouped_df[\"tenure\"], grouped_df[\"Churn\"], label=name)\n",
        "    naf3.plot(ax=ax)\n",
        "\n",
        "plt.title('Cumulative Hazard per Contract',fontdict={\"size\":20})\n",
        "plt.xlabel('Timeline in months',fontdict=font)\n",
        "plt.ylabel(\"Cumulative Hazard Rate\",fontdict=font)\n",
        "plt.legend(fontsize=15)"
      ],
      "execution_count": 25,
      "outputs": [
        {
          "output_type": "execute_result",
          "data": {
            "text/plain": [
              "<matplotlib.legend.Legend at 0x7f2e830789e8>"
            ]
          },
          "metadata": {
            "tags": []
          },
          "execution_count": 25
        },
        {
          "output_type": "display_data",
          "data": {
            "image/png": "[encoded data removed]",
            "text/plain": [
              "<Figure size 1440x720 with 1 Axes>"
            ]
          },
          "metadata": {
            "tags": [],
            "needs_background": "light"
          }
        }
      ]
    },
    {
      "cell_type": "markdown",
      "metadata": {
        "id": "GWvF4MrmHgT9"
      },
      "source": [
        "**Survival Regression**"
      ]
    },
    {
      "cell_type": "markdown",
      "metadata": {
        "id": "bqFK_GBxHVfx"
      },
      "source": [
        "It's possible to infer survival on data that we set previously aside. This is called Survival Regression. We regress the features (covariates) such as Age, Senior, type of Internet Service, etc\n",
        "\n",
        "For this, we need to dummify the data and remove features that won't be helpful in the regression (such as customerID)."
      ]
    },
    {
      "cell_type": "code",
      "metadata": {
        "id": "BNQPn8UYJC2x",
        "outputId": "c17e8991-4e6c-45d6-dc89-7f12587ee91a",
        "colab": {
          "base_uri": "https://localhost:8080/",
          "height": 241
        }
      },
      "source": [
        "main_df2 = main_df.replace({True: \"Yes\", False:\"No\"})\n",
        "dummies = pd.get_dummies(\n",
        "    main_df2[[\n",
        "             \"gender\",\n",
        "             \"SeniorCitizen\",\n",
        "             \"Partner\",\n",
        "             \"Dependents\",\n",
        "             \"PhoneService\",\n",
        "             \"MultipleLines\",\n",
        "             \"InternetService\",\n",
        "             \"OnlineSecurity\",\n",
        "             \"OnlineBackup\",\n",
        "             \"DeviceProtection\",\n",
        "             \"TechSupport\",\n",
        "             \"PaymentMethod\",\n",
        "             \"Contract\",\n",
        "             \"Churn\"\n",
        "    ]],\n",
        "    drop_first = True\n",
        ")\n",
        "\n",
        "new_df = dummies.join(main_df[[\"tenure\",\"MonthlyCharges\", \"TotalCharges\"]])\n",
        "new_df = new_df.dropna()\n",
        "new_df.head()\n"
      ],
      "execution_count": 26,
      "outputs": [
        {
          "output_type": "execute_result",
          "data": {
            "text/html": [
              "<div>\n",
              "<style scoped>\n",
              "    .dataframe tbody tr th:only-of-type {\n",
              "        vertical-align: middle;\n",
              "    }\n",
              "\n",
              "    .dataframe tbody tr th {\n",
              "        vertical-align: top;\n",
              "    }\n",
              "\n",
              "    .dataframe thead th {\n",
              "        text-align: right;\n",
              "    }\n",
              "</style>\n",
              "<table border=\"1\" class=\"dataframe\">\n",
              "  <thead>\n",
              "    <tr style=\"text-align: right;\">\n",
              "      <th></th>\n",
              "      <th>gender_Male</th>\n",
              "      <th>SeniorCitizen_Yes</th>\n",
              "      <th>Partner_Yes</th>\n",
              "      <th>Dependents_Yes</th>\n",
              "      <th>PhoneService_Yes</th>\n",
              "      <th>MultipleLines_Yes</th>\n",
              "      <th>InternetService_Fiber optic</th>\n",
              "      <th>InternetService_No</th>\n",
              "      <th>OnlineSecurity_Yes</th>\n",
              "      <th>OnlineBackup_Yes</th>\n",
              "      <th>DeviceProtection_Yes</th>\n",
              "      <th>TechSupport_Yes</th>\n",
              "      <th>PaymentMethod_Credit card (automatic)</th>\n",
              "      <th>PaymentMethod_Electronic check</th>\n",
              "      <th>PaymentMethod_Mailed check</th>\n",
              "      <th>Contract_One year</th>\n",
              "      <th>Contract_Two year</th>\n",
              "      <th>Churn_Yes</th>\n",
              "      <th>tenure</th>\n",
              "      <th>MonthlyCharges</th>\n",
              "      <th>TotalCharges</th>\n",
              "    </tr>\n",
              "  </thead>\n",
              "  <tbody>\n",
              "    <tr>\n",
              "      <th>0</th>\n",
              "      <td>0</td>\n",
              "      <td>0</td>\n",
              "      <td>1</td>\n",
              "      <td>0</td>\n",
              "      <td>0</td>\n",
              "      <td>0</td>\n",
              "      <td>0</td>\n",
              "      <td>0</td>\n",
              "      <td>0</td>\n",
              "      <td>1</td>\n",
              "      <td>0</td>\n",
              "      <td>0</td>\n",
              "      <td>0</td>\n",
              "      <td>1</td>\n",
              "      <td>0</td>\n",
              "      <td>0</td>\n",
              "      <td>0</td>\n",
              "      <td>0</td>\n",
              "      <td>1</td>\n",
              "      <td>29.85</td>\n",
              "      <td>29.85</td>\n",
              "    </tr>\n",
              "    <tr>\n",
              "      <th>1</th>\n",
              "      <td>1</td>\n",
              "      <td>0</td>\n",
              "      <td>0</td>\n",
              "      <td>0</td>\n",
              "      <td>1</td>\n",
              "      <td>0</td>\n",
              "      <td>0</td>\n",
              "      <td>0</td>\n",
              "      <td>1</td>\n",
              "      <td>0</td>\n",
              "      <td>1</td>\n",
              "      <td>0</td>\n",
              "      <td>0</td>\n",
              "      <td>0</td>\n",
              "      <td>1</td>\n",
              "      <td>1</td>\n",
              "      <td>0</td>\n",
              "      <td>0</td>\n",
              "      <td>34</td>\n",
              "      <td>56.95</td>\n",
              "      <td>1889.50</td>\n",
              "    </tr>\n",
              "    <tr>\n",
              "      <th>2</th>\n",
              "      <td>1</td>\n",
              "      <td>0</td>\n",
              "      <td>0</td>\n",
              "      <td>0</td>\n",
              "      <td>1</td>\n",
              "      <td>0</td>\n",
              "      <td>0</td>\n",
              "      <td>0</td>\n",
              "      <td>1</td>\n",
              "      <td>1</td>\n",
              "      <td>0</td>\n",
              "      <td>0</td>\n",
              "      <td>0</td>\n",
              "      <td>0</td>\n",
              "      <td>1</td>\n",
              "      <td>0</td>\n",
              "      <td>0</td>\n",
              "      <td>1</td>\n",
              "      <td>2</td>\n",
              "      <td>53.85</td>\n",
              "      <td>108.15</td>\n",
              "    </tr>\n",
              "    <tr>\n",
              "      <th>3</th>\n",
              "      <td>1</td>\n",
              "      <td>0</td>\n",
              "      <td>0</td>\n",
              "      <td>0</td>\n",
              "      <td>0</td>\n",
              "      <td>0</td>\n",
              "      <td>0</td>\n",
              "      <td>0</td>\n",
              "      <td>1</td>\n",
              "      <td>0</td>\n",
              "      <td>1</td>\n",
              "      <td>1</td>\n",
              "      <td>0</td>\n",
              "      <td>0</td>\n",
              "      <td>0</td>\n",
              "      <td>1</td>\n",
              "      <td>0</td>\n",
              "      <td>0</td>\n",
              "      <td>45</td>\n",
              "      <td>42.30</td>\n",
              "      <td>1840.75</td>\n",
              "    </tr>\n",
              "    <tr>\n",
              "      <th>4</th>\n",
              "      <td>0</td>\n",
              "      <td>0</td>\n",
              "      <td>0</td>\n",
              "      <td>0</td>\n",
              "      <td>1</td>\n",
              "      <td>0</td>\n",
              "      <td>1</td>\n",
              "      <td>0</td>\n",
              "      <td>0</td>\n",
              "      <td>0</td>\n",
              "      <td>0</td>\n",
              "      <td>0</td>\n",
              "      <td>0</td>\n",
              "      <td>1</td>\n",
              "      <td>0</td>\n",
              "      <td>0</td>\n",
              "      <td>0</td>\n",
              "      <td>1</td>\n",
              "      <td>2</td>\n",
              "      <td>70.70</td>\n",
              "      <td>151.65</td>\n",
              "    </tr>\n",
              "  </tbody>\n",
              "</table>\n",
              "</div>"
            ],
            "text/plain": [
              "   gender_Male  SeniorCitizen_Yes  ...  MonthlyCharges  TotalCharges\n",
              "0            0                  0  ...           29.85         29.85\n",
              "1            1                  0  ...           56.95       1889.50\n",
              "2            1                  0  ...           53.85        108.15\n",
              "3            1                  0  ...           42.30       1840.75\n",
              "4            0                  0  ...           70.70        151.65\n",
              "\n",
              "[5 rows x 21 columns]"
            ]
          },
          "metadata": {
            "tags": []
          },
          "execution_count": 26
        }
      ]
    },
    {
      "cell_type": "markdown",
      "metadata": {
        "id": "bVVn-C6qJbZu"
      },
      "source": [
        "Applying the Cox Proportional Hazards Model now. It is a regression that considers how long that customer \"survives\". It's proportional because it shows how each feature increases risk over a baseline, proportionally.\n",
        "\n",
        "We'll also use Scikit Learn for Train/Test split."
      ]
    },
    {
      "cell_type": "code",
      "metadata": {
        "id": "GDyCqj6QJiqm",
        "outputId": "ba879f39-e856-449a-9331-89df1126739d",
        "colab": {
          "base_uri": "https://localhost:8080/",
          "height": 1000
        }
      },
      "source": [
        "from lifelines import CoxPHFitter\n",
        "from sklearn.model_selection import train_test_split\n",
        "\n",
        "cph = CoxPHFitter()\n",
        "\n",
        "cph_train, cph_test = train_test_split(new_df, test_size=0.2)\n",
        "cph.fit(cph_train, \"tenure\", \"Churn_Yes\")\n",
        "\n",
        "cph.print_summary()\n"
      ],
      "execution_count": 27,
      "outputs": [
        {
          "output_type": "display_data",
          "data": {
            "text/latex": "\\begin{tabular}{lrrrrrrrrrr}\n\\toprule\n{} &  coef &  exp(coef) &  se(coef) &  coef lower 95\\% &  coef upper 95\\% &  exp(coef) lower 95\\% &  exp(coef) upper 95\\% &      z &    p &  -log2(p) \\\\\ncovariate                             &       &            &           &                 &                 &                      &                      &        &      &           \\\\\n\\midrule\ngender\\_Male                           & -0.02 &       0.98 &      0.05 &           -0.12 &            0.08 &                 0.88 &                 1.08 &  -0.42 & 0.68 &      0.57 \\\\\nSeniorCitizen\\_Yes                     &  0.02 &       1.02 &      0.06 &           -0.11 &            0.14 &                 0.90 &                 1.15 &   0.27 & 0.79 &      0.34 \\\\\nPartner\\_Yes                           & -0.19 &       0.83 &      0.06 &           -0.31 &           -0.07 &                 0.73 &                 0.93 &  -3.06 & 0.00 &      8.80 \\\\\nDependents\\_Yes                        & -0.10 &       0.91 &      0.08 &           -0.25 &            0.05 &                 0.78 &                 1.05 &  -1.29 & 0.20 &      2.34 \\\\\nPhoneService\\_Yes                      &  0.25 &       1.29 &      0.13 &           -0.01 &            0.51 &                 0.99 &                 1.67 &   1.91 & 0.06 &      4.17 \\\\\nMultipleLines\\_Yes                     & -0.04 &       0.97 &      0.06 &           -0.15 &            0.08 &                 0.86 &                 1.09 &  -0.58 & 0.57 &      0.82 \\\\\nInternetService\\_Fiber optic           &  0.38 &       1.46 &      0.13 &            0.12 &            0.63 &                 1.13 &                 1.88 &   2.93 & 0.00 &      8.19 \\\\\nInternetService\\_No                    & -1.71 &       0.18 &      0.19 &           -2.09 &           -1.33 &                 0.12 &                 0.27 &  -8.78 & 0.00 &     59.10 \\\\\nOnlineSecurity\\_Yes                    & -0.33 &       0.72 &      0.08 &           -0.48 &           -0.18 &                 0.62 &                 0.83 &  -4.34 & 0.00 &     16.10 \\\\\nOnlineBackup\\_Yes                      & -0.19 &       0.83 &      0.06 &           -0.31 &           -0.06 &                 0.73 &                 0.94 &  -2.97 & 0.00 &      8.39 \\\\\nDeviceProtection\\_Yes                  & -0.03 &       0.97 &      0.07 &           -0.16 &            0.10 &                 0.85 &                 1.10 &  -0.48 & 0.63 &      0.67 \\\\\nTechSupport\\_Yes                       & -0.21 &       0.81 &      0.08 &           -0.36 &           -0.06 &                 0.70 &                 0.94 &  -2.77 & 0.01 &      7.47 \\\\\nPaymentMethod\\_Credit card (automatic) & -0.01 &       0.99 &      0.10 &           -0.21 &            0.19 &                 0.81 &                 1.21 &  -0.10 & 0.92 &      0.12 \\\\\nPaymentMethod\\_Electronic check        &  0.39 &       1.48 &      0.08 &            0.23 &            0.56 &                 1.26 &                 1.75 &   4.77 & 0.00 &     19.04 \\\\\nPaymentMethod\\_Mailed check            &  0.55 &       1.73 &      0.10 &            0.36 &            0.74 &                 1.43 &                 2.10 &   5.63 & 0.00 &     25.74 \\\\\nContract\\_One year                     & -1.32 &       0.27 &      0.11 &           -1.55 &           -1.10 &                 0.21 &                 0.33 & -11.65 & 0.00 &    101.74 \\\\\nContract\\_Two year                     & -3.61 &       0.03 &      0.22 &           -4.04 &           -3.18 &                 0.02 &                 0.04 & -16.46 & 0.00 &    199.83 \\\\\nMonthlyCharges                        &  0.04 &       1.04 &      0.00 &            0.03 &            0.05 &                 1.03 &                 1.05 &  11.11 & 0.00 &     92.79 \\\\\nTotalCharges                          & -0.00 &       1.00 &      0.00 &           -0.00 &           -0.00 &                 1.00 &                 1.00 & -35.04 & 0.00 &    891.08 \\\\\n\\bottomrule\n\\end{tabular}\n",
            "text/html": [
              "<div>\n",
              "<style scoped>\n",
              "    .dataframe tbody tr th:only-of-type {\n",
              "        vertical-align: middle;\n",
              "    }\n",
              "\n",
              "    .dataframe tbody tr th {\n",
              "        vertical-align: top;\n",
              "    }\n",
              "\n",
              "    .dataframe thead th {\n",
              "        text-align: right;\n",
              "    }\n",
              "</style>\n",
              "<table border=\"1\" class=\"dataframe\">\n",
              "  <tbody>\n",
              "    <tr>\n",
              "      <th>model</th>\n",
              "      <td>lifelines.CoxPHFitter</td>\n",
              "    </tr>\n",
              "    <tr>\n",
              "      <th>duration col</th>\n",
              "      <td>'tenure'</td>\n",
              "    </tr>\n",
              "    <tr>\n",
              "      <th>event col</th>\n",
              "      <td>'Churn_Yes'</td>\n",
              "    </tr>\n",
              "    <tr>\n",
              "      <th>baseline estimation</th>\n",
              "      <td>breslow</td>\n",
              "    </tr>\n",
              "    <tr>\n",
              "      <th>number of observations</th>\n",
              "      <td>5625</td>\n",
              "    </tr>\n",
              "    <tr>\n",
              "      <th>number of events observed</th>\n",
              "      <td>1496</td>\n",
              "    </tr>\n",
              "    <tr>\n",
              "      <th>partial log-likelihood</th>\n",
              "      <td>-9815.20</td>\n",
              "    </tr>\n",
              "    <tr>\n",
              "      <th>time fit was run</th>\n",
              "      <td>2020-10-22 14:31:56 UTC</td>\n",
              "    </tr>\n",
              "  </tbody>\n",
              "</table>\n",
              "</div><table border=\"1\" class=\"dataframe\">\n",
              "  <thead>\n",
              "    <tr style=\"text-align: right;\">\n",
              "      <th style=\"min-width: 12px;\"></th>\n",
              "      <th style=\"min-width: 12px;\">coef</th>\n",
              "      <th style=\"min-width: 12px;\">exp(coef)</th>\n",
              "      <th style=\"min-width: 12px;\">se(coef)</th>\n",
              "      <th style=\"min-width: 12px;\">coef lower 95%</th>\n",
              "      <th style=\"min-width: 12px;\">coef upper 95%</th>\n",
              "      <th style=\"min-width: 12px;\">exp(coef) lower 95%</th>\n",
              "      <th style=\"min-width: 12px;\">exp(coef) upper 95%</th>\n",
              "      <th style=\"min-width: 12px;\">z</th>\n",
              "      <th style=\"min-width: 12px;\">p</th>\n",
              "      <th style=\"min-width: 12px;\">-log2(p)</th>\n",
              "    </tr>\n",
              "  </thead>\n",
              "  <tbody>\n",
              "    <tr>\n",
              "      <th>gender_Male</th>\n",
              "      <td>-0.02</td>\n",
              "      <td>0.98</td>\n",
              "      <td>0.05</td>\n",
              "      <td>-0.12</td>\n",
              "      <td>0.08</td>\n",
              "      <td>0.88</td>\n",
              "      <td>1.08</td>\n",
              "      <td>-0.42</td>\n",
              "      <td>0.68</td>\n",
              "      <td>0.57</td>\n",
              "    </tr>\n",
              "    <tr>\n",
              "      <th>SeniorCitizen_Yes</th>\n",
              "      <td>0.02</td>\n",
              "      <td>1.02</td>\n",
              "      <td>0.06</td>\n",
              "      <td>-0.11</td>\n",
              "      <td>0.14</td>\n",
              "      <td>0.90</td>\n",
              "      <td>1.15</td>\n",
              "      <td>0.27</td>\n",
              "      <td>0.79</td>\n",
              "      <td>0.34</td>\n",
              "    </tr>\n",
              "    <tr>\n",
              "      <th>Partner_Yes</th>\n",
              "      <td>-0.19</td>\n",
              "      <td>0.83</td>\n",
              "      <td>0.06</td>\n",
              "      <td>-0.31</td>\n",
              "      <td>-0.07</td>\n",
              "      <td>0.73</td>\n",
              "      <td>0.93</td>\n",
              "      <td>-3.06</td>\n",
              "      <td>&lt;0.005</td>\n",
              "      <td>8.80</td>\n",
              "    </tr>\n",
              "    <tr>\n",
              "      <th>Dependents_Yes</th>\n",
              "      <td>-0.10</td>\n",
              "      <td>0.91</td>\n",
              "      <td>0.08</td>\n",
              "      <td>-0.25</td>\n",
              "      <td>0.05</td>\n",
              "      <td>0.78</td>\n",
              "      <td>1.05</td>\n",
              "      <td>-1.29</td>\n",
              "      <td>0.20</td>\n",
              "      <td>2.34</td>\n",
              "    </tr>\n",
              "    <tr>\n",
              "      <th>PhoneService_Yes</th>\n",
              "      <td>0.25</td>\n",
              "      <td>1.29</td>\n",
              "      <td>0.13</td>\n",
              "      <td>-0.01</td>\n",
              "      <td>0.51</td>\n",
              "      <td>0.99</td>\n",
              "      <td>1.67</td>\n",
              "      <td>1.91</td>\n",
              "      <td>0.06</td>\n",
              "      <td>4.17</td>\n",
              "    </tr>\n",
              "    <tr>\n",
              "      <th>MultipleLines_Yes</th>\n",
              "      <td>-0.04</td>\n",
              "      <td>0.97</td>\n",
              "      <td>0.06</td>\n",
              "      <td>-0.15</td>\n",
              "      <td>0.08</td>\n",
              "      <td>0.86</td>\n",
              "      <td>1.09</td>\n",
              "      <td>-0.58</td>\n",
              "      <td>0.57</td>\n",
              "      <td>0.82</td>\n",
              "    </tr>\n",
              "    <tr>\n",
              "      <th>InternetService_Fiber optic</th>\n",
              "      <td>0.38</td>\n",
              "      <td>1.46</td>\n",
              "      <td>0.13</td>\n",
              "      <td>0.12</td>\n",
              "      <td>0.63</td>\n",
              "      <td>1.13</td>\n",
              "      <td>1.88</td>\n",
              "      <td>2.93</td>\n",
              "      <td>&lt;0.005</td>\n",
              "      <td>8.19</td>\n",
              "    </tr>\n",
              "    <tr>\n",
              "      <th>InternetService_No</th>\n",
              "      <td>-1.71</td>\n",
              "      <td>0.18</td>\n",
              "      <td>0.19</td>\n",
              "      <td>-2.09</td>\n",
              "      <td>-1.33</td>\n",
              "      <td>0.12</td>\n",
              "      <td>0.27</td>\n",
              "      <td>-8.78</td>\n",
              "      <td>&lt;0.005</td>\n",
              "      <td>59.10</td>\n",
              "    </tr>\n",
              "    <tr>\n",
              "      <th>OnlineSecurity_Yes</th>\n",
              "      <td>-0.33</td>\n",
              "      <td>0.72</td>\n",
              "      <td>0.08</td>\n",
              "      <td>-0.48</td>\n",
              "      <td>-0.18</td>\n",
              "      <td>0.62</td>\n",
              "      <td>0.83</td>\n",
              "      <td>-4.34</td>\n",
              "      <td>&lt;0.005</td>\n",
              "      <td>16.10</td>\n",
              "    </tr>\n",
              "    <tr>\n",
              "      <th>OnlineBackup_Yes</th>\n",
              "      <td>-0.19</td>\n",
              "      <td>0.83</td>\n",
              "      <td>0.06</td>\n",
              "      <td>-0.31</td>\n",
              "      <td>-0.06</td>\n",
              "      <td>0.73</td>\n",
              "      <td>0.94</td>\n",
              "      <td>-2.97</td>\n",
              "      <td>&lt;0.005</td>\n",
              "      <td>8.39</td>\n",
              "    </tr>\n",
              "    <tr>\n",
              "      <th>DeviceProtection_Yes</th>\n",
              "      <td>-0.03</td>\n",
              "      <td>0.97</td>\n",
              "      <td>0.07</td>\n",
              "      <td>-0.16</td>\n",
              "      <td>0.10</td>\n",
              "      <td>0.85</td>\n",
              "      <td>1.10</td>\n",
              "      <td>-0.48</td>\n",
              "      <td>0.63</td>\n",
              "      <td>0.67</td>\n",
              "    </tr>\n",
              "    <tr>\n",
              "      <th>TechSupport_Yes</th>\n",
              "      <td>-0.21</td>\n",
              "      <td>0.81</td>\n",
              "      <td>0.08</td>\n",
              "      <td>-0.36</td>\n",
              "      <td>-0.06</td>\n",
              "      <td>0.70</td>\n",
              "      <td>0.94</td>\n",
              "      <td>-2.77</td>\n",
              "      <td>0.01</td>\n",
              "      <td>7.47</td>\n",
              "    </tr>\n",
              "    <tr>\n",
              "      <th>PaymentMethod_Credit card (automatic)</th>\n",
              "      <td>-0.01</td>\n",
              "      <td>0.99</td>\n",
              "      <td>0.10</td>\n",
              "      <td>-0.21</td>\n",
              "      <td>0.19</td>\n",
              "      <td>0.81</td>\n",
              "      <td>1.21</td>\n",
              "      <td>-0.10</td>\n",
              "      <td>0.92</td>\n",
              "      <td>0.12</td>\n",
              "    </tr>\n",
              "    <tr>\n",
              "      <th>PaymentMethod_Electronic check</th>\n",
              "      <td>0.39</td>\n",
              "      <td>1.48</td>\n",
              "      <td>0.08</td>\n",
              "      <td>0.23</td>\n",
              "      <td>0.56</td>\n",
              "      <td>1.26</td>\n",
              "      <td>1.75</td>\n",
              "      <td>4.77</td>\n",
              "      <td>&lt;0.005</td>\n",
              "      <td>19.04</td>\n",
              "    </tr>\n",
              "    <tr>\n",
              "      <th>PaymentMethod_Mailed check</th>\n",
              "      <td>0.55</td>\n",
              "      <td>1.73</td>\n",
              "      <td>0.10</td>\n",
              "      <td>0.36</td>\n",
              "      <td>0.74</td>\n",
              "      <td>1.43</td>\n",
              "      <td>2.10</td>\n",
              "      <td>5.63</td>\n",
              "      <td>&lt;0.005</td>\n",
              "      <td>25.74</td>\n",
              "    </tr>\n",
              "    <tr>\n",
              "      <th>Contract_One year</th>\n",
              "      <td>-1.32</td>\n",
              "      <td>0.27</td>\n",
              "      <td>0.11</td>\n",
              "      <td>-1.55</td>\n",
              "      <td>-1.10</td>\n",
              "      <td>0.21</td>\n",
              "      <td>0.33</td>\n",
              "      <td>-11.65</td>\n",
              "      <td>&lt;0.005</td>\n",
              "      <td>101.74</td>\n",
              "    </tr>\n",
              "    <tr>\n",
              "      <th>Contract_Two year</th>\n",
              "      <td>-3.61</td>\n",
              "      <td>0.03</td>\n",
              "      <td>0.22</td>\n",
              "      <td>-4.04</td>\n",
              "      <td>-3.18</td>\n",
              "      <td>0.02</td>\n",
              "      <td>0.04</td>\n",
              "      <td>-16.46</td>\n",
              "      <td>&lt;0.005</td>\n",
              "      <td>199.83</td>\n",
              "    </tr>\n",
              "    <tr>\n",
              "      <th>MonthlyCharges</th>\n",
              "      <td>0.04</td>\n",
              "      <td>1.04</td>\n",
              "      <td>0.00</td>\n",
              "      <td>0.03</td>\n",
              "      <td>0.05</td>\n",
              "      <td>1.03</td>\n",
              "      <td>1.05</td>\n",
              "      <td>11.11</td>\n",
              "      <td>&lt;0.005</td>\n",
              "      <td>92.79</td>\n",
              "    </tr>\n",
              "    <tr>\n",
              "      <th>TotalCharges</th>\n",
              "      <td>-0.00</td>\n",
              "      <td>1.00</td>\n",
              "      <td>0.00</td>\n",
              "      <td>-0.00</td>\n",
              "      <td>-0.00</td>\n",
              "      <td>1.00</td>\n",
              "      <td>1.00</td>\n",
              "      <td>-35.04</td>\n",
              "      <td>&lt;0.005</td>\n",
              "      <td>891.08</td>\n",
              "    </tr>\n",
              "  </tbody>\n",
              "</table><br><div>\n",
              "<style scoped>\n",
              "    .dataframe tbody tr th:only-of-type {\n",
              "        vertical-align: middle;\n",
              "    }\n",
              "\n",
              "    .dataframe tbody tr th {\n",
              "        vertical-align: top;\n",
              "    }\n",
              "\n",
              "    .dataframe thead th {\n",
              "        text-align: right;\n",
              "    }\n",
              "</style>\n",
              "<table border=\"1\" class=\"dataframe\">\n",
              "  <tbody>\n",
              "    <tr>\n",
              "      <th>Concordance</th>\n",
              "      <td>0.93</td>\n",
              "    </tr>\n",
              "    <tr>\n",
              "      <th>Partial AIC</th>\n",
              "      <td>19668.40</td>\n",
              "    </tr>\n",
              "    <tr>\n",
              "      <th>log-likelihood ratio test</th>\n",
              "      <td>4752.57 on 19 df</td>\n",
              "    </tr>\n",
              "    <tr>\n",
              "      <th>-log2(p) of ll-ratio test</th>\n",
              "      <td>inf</td>\n",
              "    </tr>\n",
              "  </tbody>\n",
              "</table>\n",
              "</div>"
            ],
            "text/plain": [
              "<lifelines.CoxPHFitter: fitted with 5625 total observations, 4129 right-censored observations>\n",
              "             duration col = 'tenure'\n",
              "                event col = 'Churn_Yes'\n",
              "      baseline estimation = breslow\n",
              "   number of observations = 5625\n",
              "number of events observed = 1496\n",
              "   partial log-likelihood = -9815.20\n",
              "         time fit was run = 2020-10-22 14:31:56 UTC\n",
              "\n",
              "---\n",
              "                                        coef  exp(coef)   se(coef)   coef lower 95%   coef upper 95%  exp(coef) lower 95%  exp(coef) upper 95%\n",
              "covariate                                                                                                                                     \n",
              "gender_Male                            -0.02       0.98       0.05            -0.12             0.08                 0.88                 1.08\n",
              "SeniorCitizen_Yes                       0.02       1.02       0.06            -0.11             0.14                 0.90                 1.15\n",
              "Partner_Yes                            -0.19       0.83       0.06            -0.31            -0.07                 0.73                 0.93\n",
              "Dependents_Yes                         -0.10       0.91       0.08            -0.25             0.05                 0.78                 1.05\n",
              "PhoneService_Yes                        0.25       1.29       0.13            -0.01             0.51                 0.99                 1.67\n",
              "MultipleLines_Yes                      -0.04       0.97       0.06            -0.15             0.08                 0.86                 1.09\n",
              "InternetService_Fiber optic             0.38       1.46       0.13             0.12             0.63                 1.13                 1.88\n",
              "InternetService_No                     -1.71       0.18       0.19            -2.09            -1.33                 0.12                 0.27\n",
              "OnlineSecurity_Yes                     -0.33       0.72       0.08            -0.48            -0.18                 0.62                 0.83\n",
              "OnlineBackup_Yes                       -0.19       0.83       0.06            -0.31            -0.06                 0.73                 0.94\n",
              "DeviceProtection_Yes                   -0.03       0.97       0.07            -0.16             0.10                 0.85                 1.10\n",
              "TechSupport_Yes                        -0.21       0.81       0.08            -0.36            -0.06                 0.70                 0.94\n",
              "PaymentMethod_Credit card (automatic)  -0.01       0.99       0.10            -0.21             0.19                 0.81                 1.21\n",
              "PaymentMethod_Electronic check          0.39       1.48       0.08             0.23             0.56                 1.26                 1.75\n",
              "PaymentMethod_Mailed check              0.55       1.73       0.10             0.36             0.74                 1.43                 2.10\n",
              "Contract_One year                      -1.32       0.27       0.11            -1.55            -1.10                 0.21                 0.33\n",
              "Contract_Two year                      -3.61       0.03       0.22            -4.04            -3.18                 0.02                 0.04\n",
              "MonthlyCharges                          0.04       1.04       0.00             0.03             0.05                 1.03                 1.05\n",
              "TotalCharges                           -0.00       1.00       0.00            -0.00            -0.00                 1.00                 1.00\n",
              "\n",
              "                                           z      p   -log2(p)\n",
              "covariate                                                     \n",
              "gender_Male                            -0.42   0.68       0.57\n",
              "SeniorCitizen_Yes                       0.27   0.79       0.34\n",
              "Partner_Yes                            -3.06 <0.005       8.80\n",
              "Dependents_Yes                         -1.29   0.20       2.34\n",
              "PhoneService_Yes                        1.91   0.06       4.17\n",
              "MultipleLines_Yes                      -0.58   0.57       0.82\n",
              "InternetService_Fiber optic             2.93 <0.005       8.19\n",
              "InternetService_No                     -8.78 <0.005      59.10\n",
              "OnlineSecurity_Yes                     -4.34 <0.005      16.10\n",
              "OnlineBackup_Yes                       -2.97 <0.005       8.39\n",
              "DeviceProtection_Yes                   -0.48   0.63       0.67\n",
              "TechSupport_Yes                        -2.77   0.01       7.47\n",
              "PaymentMethod_Credit card (automatic)  -0.10   0.92       0.12\n",
              "PaymentMethod_Electronic check          4.77 <0.005      19.04\n",
              "PaymentMethod_Mailed check              5.63 <0.005      25.74\n",
              "Contract_One year                     -11.65 <0.005     101.74\n",
              "Contract_Two year                     -16.46 <0.005     199.83\n",
              "MonthlyCharges                         11.11 <0.005      92.79\n",
              "TotalCharges                          -35.04 <0.005     891.08\n",
              "---\n",
              "Concordance = 0.93\n",
              "Partial AIC = 19668.40\n",
              "log-likelihood ratio test = 4752.57 on 19 df\n",
              "-log2(p) of ll-ratio test = inf"
            ]
          },
          "metadata": {
            "tags": []
          }
        }
      ]
    },
    {
      "cell_type": "markdown",
      "metadata": {
        "id": "FWX96U4xKlF2"
      },
      "source": [
        "Interpretation of results: Concordance is 0.93 out of 1, which is very high. Meaning, the model is \"in concordance\" of the data seen.\n",
        "For more info on Concordance, check this [paper](https://cran.r-project.org/web/packages/survival/vignettes/concordance.pdf) or these [slides](https://myweb.uiowa.edu/pbreheny/7210/f15/notes/11-19.pdf)\n",
        "The most important coefficients are: 2 Year Contract, 1 Year Contract and InternetService_No.\n",
        "Let's plot the coefficients."
      ]
    },
    {
      "cell_type": "code",
      "metadata": {
        "id": "ldDYrzfNRyHJ",
        "outputId": "d7658aa0-6e60-4b91-a1b2-24ab7d75e46e",
        "colab": {
          "base_uri": "https://localhost:8080/",
          "height": 487
        }
      },
      "source": [
        "plt.figure(figsize=(15,7.5))\n",
        "\n",
        "cph.plot()"
      ],
      "execution_count": 28,
      "outputs": [
        {
          "output_type": "execute_result",
          "data": {
            "text/plain": [
              "<matplotlib.axes._subplots.AxesSubplot at 0x7f2e8757b978>"
            ]
          },
          "metadata": {
            "tags": []
          },
          "execution_count": 28
        },
        {
          "output_type": "display_data",
          "data": {
            "image/png": "[encoded data removed]",
            "text/plain": [
              "<Figure size 1080x540 with 1 Axes>"
            ]
          },
          "metadata": {
            "tags": [],
            "needs_background": "light"
          }
        }
      ]
    },
    {
      "cell_type": "markdown",
      "metadata": {
        "id": "TLyfOOOWRubz"
      },
      "source": [
        "Let's use the model in the test set!\n",
        "We can see the concordance is still very high on the test set. It hasn't overfit the training set."
      ]
    },
    {
      "cell_type": "code",
      "metadata": {
        "id": "iO4qeG-eSwQS",
        "outputId": "a35629c5-e75f-425e-ca7e-9371f69a898e",
        "colab": {
          "base_uri": "https://localhost:8080/",
          "height": 34
        }
      },
      "source": [
        "print(cph.score(cph_test, scoring_method = \"concordance_index\"))"
      ],
      "execution_count": 30,
      "outputs": [
        {
          "output_type": "stream",
          "text": [
            "0.9300251140210152\n"
          ],
          "name": "stdout"
        }
      ]
    },
    {
      "cell_type": "markdown",
      "metadata": {
        "id": "GH7CMk7WWKpR"
      },
      "source": [
        "Let's try with cross-validation.\n",
        "\n",
        "First score is the Log Likelihood.\n",
        "\n",
        "Second score is the Concordance.\n",
        "\n",
        "\n"
      ]
    },
    {
      "cell_type": "code",
      "metadata": {
        "id": "SIhde27OWSH9",
        "outputId": "a84a5d1d-f772-42ab-83c9-417671ef8821",
        "colab": {
          "base_uri": "https://localhost:8080/",
          "height": 51
        }
      },
      "source": [
        "from lifelines.utils import k_fold_cross_validation\n",
        "\n",
        "cph = CoxPHFitter()\n",
        "scores = k_fold_cross_validation(cph, new_df, 'tenure', event_col='Churn_Yes', k=3)\n",
        "print(scores)\n",
        "\n",
        "scores = k_fold_cross_validation(cph, new_df, 'tenure', event_col='Churn_Yes', k=3, scoring_method=\"concordance_index\")\n",
        "print(scores)"
      ],
      "execution_count": 29,
      "outputs": [
        {
          "output_type": "stream",
          "text": [
            "[-1.4993699244332628, -1.5291800687066792, -1.5066703408122628]\n",
            "[0.9253447677850279, 0.929416767629761, 0.9299617676767162]\n"
          ],
          "name": "stdout"
        }
      ]
    },
    {
      "cell_type": "markdown",
      "metadata": {
        "id": "-3VjGWReWRRf"
      },
      "source": [
        "Similar results! And that is it for this Survival Analysis. Other models and possible visualizations exist,of course. Still, we were able to gather insights and the indicators of a customer churning, as well as the specific timeline.\n",
        "Once you have the model, you can apply for specific users too. Check the Lifelines documentation to see how to do it. :)"
      ]
    }
  ]
}